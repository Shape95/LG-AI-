{
 "cells": [
  {
   "cell_type": "markdown",
   "id": "e88c9f79",
   "metadata": {},
   "source": [
    "### Import Libraries"
   ]
  },
  {
   "cell_type": "code",
   "execution_count": 1,
   "id": "1eeb023b",
   "metadata": {},
   "outputs": [],
   "source": [
    "import pandas as pd\n",
    "import random\n",
    "import os\n",
    "import numpy as np\n",
    "import time\n",
    "import seaborn as sns\n",
    "from scipy import stats\n",
    "import matplotlib.pyplot as plt\n",
    "\n",
    "from lightgbm import LGBMRegressor, LGBMClassifier\n",
    "from xgboost import XGBRegressor, XGBClassifier\n",
    "from sklearn.ensemble import RandomForestRegressor, RandomForestClassifier\n",
    "from catboost import CatBoostRegressor, CatBoostClassifier\n",
    "\n",
    "from sklearn.metrics import make_scorer, confusion_matrix\n",
    "from sklearn.multioutput import MultiOutputRegressor\n",
    "from sklearn.model_selection import KFold\n",
    "from sklearn.metrics import mean_squared_error, accuracy_score, recall_score, plot_confusion_matrix, roc_auc_score\n",
    "\n",
    "# basics\n",
    "import numpy as np \n",
    "import pandas as pd\n",
    "import matplotlib.pyplot as plt\n",
    "import seaborn as sns\n",
    "\n",
    "from sklearn.model_selection import train_test_split, StratifiedKFold\n",
    "\n",
    "# model\n",
    "from lightgbm import LGBMClassifier\n",
    "\n",
    "# resample\n",
    "from imblearn.over_sampling import SMOTE\n"
   ]
  },
  {
   "cell_type": "code",
   "execution_count": 2,
   "id": "34ab72b6",
   "metadata": {},
   "outputs": [],
   "source": [
    "def seed_everything(seed):\n",
    "    random.seed(seed)\n",
    "    os.environ['PYTHONHASHSEED'] = str(seed)\n",
    "    np.random.seed(seed)\n",
    "seed_everything(42) # Seed 고정"
   ]
  },
  {
   "cell_type": "markdown",
   "id": "509008d5",
   "metadata": {},
   "source": [
    "### Usable Functions "
   ]
  },
  {
   "cell_type": "code",
   "execution_count": 3,
   "id": "99a7e102",
   "metadata": {},
   "outputs": [],
   "source": [
    "def dataset_split_X_y(df):    \n",
    "    \"\"\"\n",
    "    @Description: split data into features and labels\n",
    "    @Param: df, pandas dataframe with columns starting with X for features and Y for labels\n",
    "    @Return: features and labels in pandas dataframes\n",
    "    \"\"\"\n",
    "    xs = df.filter(regex='X') # Input : X Feature\n",
    "    ys = df.filter(regex='Y') # Output : Y Feature\n",
    "    return xs, ys"
   ]
  },
  {
   "cell_type": "code",
   "execution_count": 4,
   "id": "55084511",
   "metadata": {},
   "outputs": [],
   "source": [
    "def zero_variance(df):\n",
    "    \"\"\"\n",
    "    @Description: check for zero_variance\n",
    "    @Param1: df, pandas dataframe\n",
    "    @Return: names of the columns with zero variance\n",
    "    \"\"\"\n",
    "    result = []\n",
    "    for col in train_x.columns:\n",
    "        if train_x[col].var() == 0:\n",
    "            result.append(col)\n",
    "    return result"
   ]
  },
  {
   "cell_type": "code",
   "execution_count": 5,
   "id": "c636f27d",
   "metadata": {},
   "outputs": [],
   "source": [
    "def get_top_correlation(df, n=10):\n",
    "    \"\"\"\n",
    "    @Description: print out top correlated features\n",
    "    @Param1: df, pandas dataframe\n",
    "    @Param2: n, number of lines to print \n",
    "    @Return: pandas series\n",
    "    \"\"\"\n",
    "    pairs = set()\n",
    "    for idx1 in range(0, df.shape[1]):\n",
    "        for idx2 in range(0, idx1+1):\n",
    "            pairs.add((df.columns[idx1], df.columns[idx2]))\n",
    "    corr = df.corr().abs().unstack()\n",
    "    corr = corr.drop(labels=pairs).sort_values(ascending=False)\n",
    "    return corr[0:n]\n",
    "\n",
    "\n",
    "# highly_correlated = [i[1] for i in get_top_correlation(train_x, 2).index]\n",
    "# train_x = train_x.drop(highly_correlated, axis = 1)\n",
    "# test_x = test_x.drop(highly_correlated, axis = 1)"
   ]
  },
  {
   "cell_type": "code",
   "execution_count": 6,
   "id": "35384db8",
   "metadata": {},
   "outputs": [],
   "source": [
    "ys = ['Y_01', 'Y_02', 'Y_03', 'Y_04', 'Y_05', \n",
    "      'Y_06', 'Y_07', 'Y_08', 'Y_09', 'Y_10', \n",
    "      'Y_11', 'Y_12', 'Y_13', 'Y_14']\n",
    "ys_bounds = [[0.2, 2], [0.2, 2.1], [0.2, 2.1], \n",
    "             [7, 19], [22, 36.5], [-19.2, 19], \n",
    "             [2.4, 4], [-29.2, -24], [-29.2, -24],\n",
    "             [-30.6, -20], [19.6, 26.6], [-29.2, -24],\n",
    "             [-29.2, -24], [-29.2, -24]]"
   ]
  },
  {
   "cell_type": "markdown",
   "id": "361f60bb",
   "metadata": {},
   "source": [
    "### Load Data"
   ]
  },
  {
   "cell_type": "code",
   "execution_count": 7,
   "id": "2f051dd6",
   "metadata": {},
   "outputs": [],
   "source": [
    "train_df = pd.read_csv('data/train.csv')\n",
    "test_x = pd.read_csv('data/test.csv')\n",
    "train_x, train_y = dataset_split_X_y(train_df)\n",
    "\n",
    "cols_with_zero_variance = zero_variance(train_x) # 분산이 0 (통과 여부)\n",
    "train_x = train_x.drop(cols_with_zero_variance, axis = 1)\n",
    "test_x = test_x.drop(cols_with_zero_variance, axis = 1)\n",
    "\n",
    "train_x = train_x.drop(['X_10', 'X_11'], axis = 1) # 결측치가 많음 (결측치 = 0, 공지사항)\n",
    "test_x = test_x.drop(['X_10', 'X_11'], axis = 1)\n",
    "\n",
    "test_x = test_x.drop('ID', axis=1)\n",
    "\n",
    "y_feature_spec_info = pd.read_csv('data/meta/y_feature_spec_info.csv')"
   ]
  },
  {
   "cell_type": "code",
   "execution_count": 8,
   "id": "e46e7c7a",
   "metadata": {},
   "outputs": [],
   "source": [
    "df_indicator = pd.DataFrame()\n",
    "for idx in range(len(ys)):\n",
    "    y_series = ~train_y[ys[idx]].between(ys_bounds[idx][0], ys_bounds[idx][1])\n",
    "    df_indicator = pd.concat([df_indicator, y_series.astype(int)], axis = 1)"
   ]
  },
  {
   "cell_type": "code",
   "execution_count": 402,
   "id": "79613790",
   "metadata": {},
   "outputs": [
    {
     "name": "stdout",
     "output_type": "stream",
     "text": [
      "3917\n"
     ]
    }
   ],
   "source": [
    "lst = []\n",
    "for i in df_indicator.columns:\n",
    "    lst.append(df_indicator[df_indicator[i] == 1].index)\n",
    "ans=set()\n",
    "for i in lst:\n",
    "    for k in i:\n",
    "        ans.add(k)\n",
    "print(len(ans))"
   ]
  },
  {
   "cell_type": "code",
   "execution_count": 403,
   "id": "d174140c",
   "metadata": {},
   "outputs": [],
   "source": [
    "lst = []\n",
    "for i in df_indicator.columns:\n",
    "    lst.append(df_indicator[df_indicator[i] == 1].index)\n",
    "ans=set()\n",
    "for i in lst:\n",
    "    for k in i:\n",
    "        ans.add(k)\n",
    "print(len(ans))\n",
    "\n",
    "ans = list(ans)\n",
    "ans.sort()\n",
    "normal_x = train_x.loc[ans, :]"
   ]
  },
  {
   "cell_type": "code",
   "execution_count": 404,
   "id": "673ed51d",
   "metadata": {},
   "outputs": [],
   "source": [
    "normal_x = train.drop(normal_x.index)"
   ]
  },
  {
   "cell_type": "code",
   "execution_count": 407,
   "id": "880c35b8",
   "metadata": {},
   "outputs": [
    {
     "name": "stdout",
     "output_type": "stream",
     "text": [
      "3917\n"
     ]
    }
   ],
   "source": [
    "print(len(train_x) - len(normal_x))"
   ]
  },
  {
   "cell_type": "code",
   "execution_count": 452,
   "id": "5a8697af",
   "metadata": {},
   "outputs": [],
   "source": [
    "def variable_func(y_val):\n",
    "    aucs = []\n",
    "\n",
    "    train = train_x\n",
    "    target = df_indicator[y_val] # Y_01 에 대한 Classification \n",
    "\n",
    "    smote = SMOTE(random_state=1, sampling_strategy='minority', k_neighbors=5)\n",
    "    model_oof, model_pred = np.zeros(len(train)), np.zeros(len(test_x))\n",
    "    folds = StratifiedKFold(n_splits=10, shuffle=True, random_state=50)\n",
    "\n",
    "    for fold_ , (train_idx, valid_idx) in enumerate(folds.split(train, target)):\n",
    "\n",
    "        train_features, valid_features = train.iloc[train_idx], train.iloc[valid_idx]\n",
    "        train_target, valid_target = target.iloc[train_idx], target.iloc[valid_idx]\n",
    " #n_estimators=1000,num_leaves=64,n_jobs=-1,\n",
    "        train_feature_smote, train_target_smote = smote.fit_resample(train_features, train_target)\n",
    "        \n",
    "        model = LGBMClassifier(n_estimators=85, random_state=1, is_unbalance=True, boost_from_average=False)\n",
    "        model.fit(train_feature_smote, train_target_smote)\n",
    "\n",
    "        model_oof[valid_idx] = model.predict_proba(valid_features)[:, 1]\n",
    "        targe = model.predict_proba(train_feature_smote)[:, 1]\n",
    "        print('Current Fold #', fold_ + 1, 'AUC on validation:' , roc_auc_score(valid_target, model_oof[valid_idx]))\n",
    "\n",
    "        aucs.append(roc_auc_score(valid_target, model_oof[valid_idx]))\n",
    "        model_pred += model.predict_proba(test_x)[:, 1] / folds.n_splits\n",
    "\n",
    "    print('Average AUC: ', np.mean(aucs))\n",
    "    \n",
    "    return model.predict(train)\n"
   ]
  },
  {
   "cell_type": "code",
   "execution_count": 453,
   "id": "15cc4237",
   "metadata": {},
   "outputs": [
    {
     "name": "stdout",
     "output_type": "stream",
     "text": [
      "Current Fold # 1 AUC on validation: 0.5840102494311777\n",
      "Current Fold # 2 AUC on validation: 0.5502619062807891\n",
      "Current Fold # 3 AUC on validation: 0.5927888943231193\n",
      "Current Fold # 4 AUC on validation: 0.6438818834570211\n",
      "Current Fold # 5 AUC on validation: 0.6346956712810372\n",
      "Current Fold # 6 AUC on validation: 0.6049733840843203\n",
      "Current Fold # 7 AUC on validation: 0.5912641931444839\n",
      "Current Fold # 8 AUC on validation: 0.5967697333326196\n",
      "Current Fold # 9 AUC on validation: 0.5768860914415597\n",
      "Current Fold # 10 AUC on validation: 0.6214739764250835\n",
      "Average AUC:  0.5997005983201211\n"
     ]
    },
    {
     "data": {
      "text/plain": [
       "array([0, 0, 0, ..., 0, 0, 0])"
      ]
     },
     "execution_count": 453,
     "metadata": {},
     "output_type": "execute_result"
    }
   ],
   "source": [
    "variable_func('Y_01')"
   ]
  },
  {
   "cell_type": "code",
   "execution_count": 110,
   "id": "313d1f24",
   "metadata": {},
   "outputs": [],
   "source": [
    "preds = model.predict(train_x)"
   ]
  },
  {
   "cell_type": "code",
   "execution_count": 62,
   "id": "a38b5ab2",
   "metadata": {},
   "outputs": [],
   "source": [
    "preds = pd.DataFrame(preds)"
   ]
  },
  {
   "cell_type": "code",
   "execution_count": 64,
   "id": "caad1030",
   "metadata": {},
   "outputs": [
    {
     "data": {
      "text/plain": [
       "0    38623\n",
       "1      984\n",
       "dtype: int64"
      ]
     },
     "execution_count": 64,
     "metadata": {},
     "output_type": "execute_result"
    }
   ],
   "source": [
    "preds.value_counts()"
   ]
  },
  {
   "cell_type": "code",
   "execution_count": 42,
   "id": "cb427dfc",
   "metadata": {},
   "outputs": [
    {
     "data": {
      "text/plain": [
       "<AxesSubplot:>"
      ]
     },
     "execution_count": 42,
     "metadata": {},
     "output_type": "execute_result"
    },
    {
     "data": {
      "image/png": "[encoded data removed]",
      "text/plain": [
       "<Figure size 720x576 with 2 Axes>"
      ]
     },
     "metadata": {
      "needs_background": "light"
     },
     "output_type": "display_data"
    }
   ],
   "source": [
    "oofs = np.where(model_oof > 0.5, 1, 0)\n",
    "\n",
    "cm = confusion_matrix(target, oofs) \n",
    "groups = ['True Negative','False Positive','False Negative','True Positive']\n",
    "counts = [\"{0:0.0f}\".format(val) for val in cm.flatten()]\n",
    "percent = [\"{0:.3%}\".format(val) for val in cm.flatten() / np.sum(cm)]\n",
    "labels = np.asarray([f\"{val1} \\n {val2} \\n {val3}\" for val1, val2, val3 in zip(groups, counts, percent)]).reshape(2, 2)\n",
    "plt.figure(figsize=(10, 8))\n",
    "sns.heatmap(cm, annot = labels, fmt ='')\n",
    "\n"
   ]
  },
  {
   "cell_type": "code",
   "execution_count": null,
   "id": "ccbcf1e6",
   "metadata": {},
   "outputs": [],
   "source": []
  }
 ],
 "metadata": {
  "kernelspec": {
   "display_name": "Python 3 (ipykernel)",
   "language": "python",
   "name": "python3"
  },
  "language_info": {
   "codemirror_mode": {
    "name": "ipython",
    "version": 3
   },
   "file_extension": ".py",
   "mimetype": "text/x-python",
   "name": "python",
   "nbconvert_exporter": "python",
   "pygments_lexer": "ipython3",
   "version": "3.10.4"
  }
 },
 "nbformat": 4,
 "nbformat_minor": 5
}
