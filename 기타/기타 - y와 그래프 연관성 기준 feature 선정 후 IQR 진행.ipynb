{
 "cells": [
  {
   "cell_type": "markdown",
   "id": "e88c9f79",
   "metadata": {},
   "source": [
    "### Import Libraries"
   ]
  },
  {
   "cell_type": "code",
   "execution_count": 1,
   "id": "784827d5",
   "metadata": {},
   "outputs": [],
   "source": [
    "import pandas as pd\n",
    "import random\n",
    "import os\n",
    "import numpy as np\n",
    "from functools import partial\n",
    "from lightgbm import LGBMRegressor\n",
    "from hyperopt import fmin, hp, tpe, Trials, STATUS_OK\n",
    "from sklearn.model_selection import cross_val_score\n",
    "from sklearn import metrics\n",
    "from sklearn.metrics import mean_squared_error\n",
    "from sklearn.metrics import make_scorer\n",
    "from sklearn.multioutput import MultiOutputRegressor\n",
    "from sklearn.model_selection import KFold"
   ]
  },
  {
   "cell_type": "code",
   "execution_count": 2,
   "id": "34ab72b6",
   "metadata": {},
   "outputs": [],
   "source": [
    "def seed_everything(seed):\n",
    "    random.seed(seed)\n",
    "    os.environ['PYTHONHASHSEED'] = str(seed)\n",
    "    np.random.seed(seed)\n",
    "seed_everything(42) # Seed 고정"
   ]
  },
  {
   "cell_type": "code",
   "execution_count": 3,
   "id": "69084ff7",
   "metadata": {},
   "outputs": [],
   "source": [
    "def dataset_split_X_y(df):    \n",
    "    \"\"\"\n",
    "    @Description: split data into features and labels\n",
    "    @Param: df, pandas dataframe with columns starting with X for features and Y for labels\n",
    "    @Return: features and labels in pandas dataframes\n",
    "    \"\"\"\n",
    "    xs = df.filter(regex='X') # Input : X Feature\n",
    "    ys = df.filter(regex='Y') # Output : Y Feature\n",
    "    return xs, ys"
   ]
  },
  {
   "cell_type": "code",
   "execution_count": 4,
   "id": "800347f5",
   "metadata": {},
   "outputs": [],
   "source": [
    "def zero_variance(df):\n",
    "    \"\"\"\n",
    "    @Description: check for zero_variance\n",
    "    @Param1: df, pandas dataframe\n",
    "    @Return: names of the columns with zero variance\n",
    "    \"\"\"\n",
    "    result = []\n",
    "    for col in df.columns:\n",
    "        if df[col].var() == 0:\n",
    "            result.append(col)\n",
    "    return result"
   ]
  },
  {
   "cell_type": "code",
   "execution_count": 5,
   "id": "3405de0f",
   "metadata": {},
   "outputs": [],
   "source": [
    "def get_top_correlation(df, n=10):\n",
    "    \"\"\"\n",
    "    @Description: print out top correlated features\n",
    "    @Param1: df, pandas dataframe\n",
    "    @Param2: n, number of lines to print \n",
    "    @Return: pandas series\n",
    "    \"\"\"\n",
    "    pairs = set()\n",
    "    for idx1 in range(0, df.shape[1]):\n",
    "        for idx2 in range(0, idx1+1):\n",
    "            pairs.add((df.columns[idx1], df.columns[idx2]))\n",
    "    corr = df.corr().abs().unstack()\n",
    "    corr = corr.drop(labels=pairs).sort_values(ascending=False)\n",
    "    return corr[0:n]"
   ]
  },
  {
   "cell_type": "code",
   "execution_count": 6,
   "id": "2f8979dd",
   "metadata": {},
   "outputs": [],
   "source": [
    "def lg_nrmse(gt, preds):\n",
    "    \"\"\"\n",
    "    @Description: Metric used in this project\n",
    "    @Params1: gt, pandas dataframe\n",
    "    @Param2: preds, pandas dataframe\n",
    "    @Return: nrmse score\n",
    "    \"\"\"\n",
    "    # 각 Y Feature별 NRMSE 총합\n",
    "    # Y_01 ~ Y_08 까지 20% 가중치 부여\n",
    "    preds = pd.DataFrame(preds)\n",
    "    all_nrmse = []\n",
    "    for idx in range(0,14):\n",
    "        rmse = mean_squared_error(gt.iloc[:,idx], preds.iloc[:,idx], squared=False)\n",
    "        nrmse = rmse/np.mean(np.abs(gt.iloc[:,idx]))\n",
    "        all_nrmse.append(nrmse)\n",
    "    score = 1.2 * np.sum(all_nrmse[:8]) + 1.0 * np.sum(all_nrmse[8:15])\n",
    "    return score"
   ]
  },
  {
   "cell_type": "code",
   "execution_count": 26,
   "id": "70733c9f",
   "metadata": {},
   "outputs": [],
   "source": [
    "train_x = pd.read_csv('data/train.csv')\n",
    "\n",
    "test_x = pd.read_csv('data/test.csv')\n",
    "train_x, train_y = dataset_split_X_y(train_x)\n"
   ]
  },
  {
   "cell_type": "code",
   "execution_count": null,
   "id": "523c25e3",
   "metadata": {},
   "outputs": [],
   "source": [
    "\n",
    "cols_with_zero_variance = zero_variance(train_x)\n",
    "train_x = train_x.drop(cols_with_zero_variance, axis = 1)\n",
    "test_x = test_x.drop(cols_with_zero_variance, axis = 1)\n",
    "\n",
    "highly_correlated = [i[1] for i in get_top_correlation(train_x, 1).index]\n",
    "train_x = train_x.drop(highly_correlated, axis = 1)\n",
    "\n",
    "test_x = test_x.drop(highly_correlated, axis = 1)\n",
    "test_x = test_x.drop('ID', axis=1)"
   ]
  },
  {
   "cell_type": "code",
   "execution_count": 27,
   "id": "2c6c7a2d",
   "metadata": {},
   "outputs": [],
   "source": [
    "def outlier_iqr(tmp, i):\n",
    "    data = tmp[i]\n",
    "    \n",
    "    print(np.percentile(data,75))\n",
    "    print(np.percentile(data,25))\n",
    "    q25, q75 = np.percentile(data, 25), np.percentile(data,75)\n",
    "    iqr = q75 - q25\n",
    "    \n",
    "    cut_off = iqr * 1.5\n",
    "    lower, upper = q25 - cut_off, q75 + cut_off\n",
    "    print('변수 명 : ',i)\n",
    "    print('IQR : ', iqr)\n",
    "    print('lower bound : ', lower)\n",
    "    print('upper bound : ', upper)\n",
    "    \n",
    "    tmp['X_57'] = np.where(data < upper, \n",
    "                    np.where(tmp['X_57'] == 0, 0, 1), \n",
    "                    np.where(tmp['X_57'] == 0, 1, 1))\n",
    "    tmp['X_57'] = np.where(data>lower, \n",
    "                    np.where(tmp['X_57'] == 0, 0, 1), \n",
    "                    np.where(tmp['X_57'] == 0, 1, 1))\n",
    "    \n",
    "    print(\"tmp['X_58'].value_counts() : \", tmp['X_57'].value_counts());\n",
    "    return tmp"
   ]
  },
  {
   "cell_type": "code",
   "execution_count": 28,
   "id": "11d186e7",
   "metadata": {},
   "outputs": [],
   "source": [
    "X_57 = [0 for i in range(0, train_x.shape[0])]\n",
    "len(X_57)\n",
    "X_57 = pd.DataFrame(X_57)\n",
    "train_x['X_57'] = X_57"
   ]
  },
  {
   "cell_type": "code",
   "execution_count": 29,
   "id": "5658a8d2",
   "metadata": {},
   "outputs": [],
   "source": [
    "# 2차 시도 (y와 corr 기준) fixed 2 !!!!!!!!!!\n",
    "cols = [\"X_41\",\"X_42\",\"X_43\", \"X_44\",\"X_45\"]\n"
   ]
  },
  {
   "cell_type": "code",
   "execution_count": 18,
   "id": "a75304b5",
   "metadata": {},
   "outputs": [],
   "source": [
    "# 2차 시도 (y와 corr 기준) fixed 2 !!!!!!!!!!\n",
    "cols = [\"X_14\",\"X_15\", \"X_17\", \"X_18\", \"X_19\", \"X_20\", \"X_21\",\"X_22\",\n",
    "        \"X_24\", \"X_25\", \"X_26\", \"X_27\", \"X_28\",\"X_29\", \"X_39\", \"X_40\",\"X_41\",\"X_42\",\"X_43\", \"X_44\",\"X_45\"]\n"
   ]
  },
  {
   "cell_type": "code",
   "execution_count": 19,
   "id": "eb27601a",
   "metadata": {},
   "outputs": [],
   "source": [
    "cols = [\"X_11\", \"X_14\",\"X_15\", \"X_16\", \"X_17\", \"X_18\", \"X_19\", \"X_20\", \"X_21\",\"X_22\",\n",
    "        \"X_24\", \"X_25\", \"X_26\", \"X_27\", \"X_28\",\"X_29\", \n",
    "        \"X_30\", \"X_31\", \"X_32\", \"X_33\",\n",
    "        \"X_34\", \"X_35\", \"X_36\", \"X_37\", \n",
    "        \"X_39\", \"X_40\",\"X_41\",\"X_42\",\"X_43\", \"X_44\",\"X_45\"\n",
    "       ]"
   ]
  },
  {
   "cell_type": "code",
   "execution_count": 30,
   "id": "61bb25ce",
   "metadata": {},
   "outputs": [
    {
     "name": "stdout",
     "output_type": "stream",
     "text": [
      "21.21\n",
      "21.17\n",
      "변수 명 :  X_41\n",
      "IQR :  0.03999999999999915\n",
      "lower bound :  21.110000000000003\n",
      "upper bound :  21.27\n",
      "tmp['X_58'].value_counts() :  0    38918\n",
      "1      689\n",
      "Name: X_57, dtype: int64\n",
      "21.09\n",
      "21.03\n",
      "변수 명 :  X_42\n",
      "IQR :  0.05999999999999872\n",
      "lower bound :  20.940000000000005\n",
      "upper bound :  21.18\n",
      "tmp['X_58'].value_counts() :  0    38748\n",
      "1      859\n",
      "Name: X_57, dtype: int64\n",
      "21.24\n",
      "21.17\n",
      "변수 명 :  X_43\n",
      "IQR :  0.06999999999999673\n",
      "lower bound :  21.065000000000005\n",
      "upper bound :  21.34499999999999\n",
      "tmp['X_58'].value_counts() :  0    38629\n",
      "1      978\n",
      "Name: X_57, dtype: int64\n",
      "21.19\n",
      "21.13\n",
      "변수 명 :  X_44\n",
      "IQR :  0.060000000000002274\n",
      "lower bound :  21.039999999999996\n",
      "upper bound :  21.280000000000005\n",
      "tmp['X_58'].value_counts() :  0    38477\n",
      "1     1130\n",
      "Name: X_57, dtype: int64\n",
      "0.19\n",
      "0.12\n",
      "변수 명 :  X_45\n",
      "IQR :  0.07\n",
      "lower bound :  0.014999999999999986\n",
      "upper bound :  0.29500000000000004\n",
      "tmp['X_58'].value_counts() :  0    38449\n",
      "1     1158\n",
      "Name: X_57, dtype: int64\n",
      "21.21\n",
      "21.17\n",
      "변수 명 :  X_41\n",
      "IQR :  0.03999999999999915\n",
      "lower bound :  21.110000000000003\n",
      "upper bound :  21.27\n",
      "tmp['X_58'].value_counts() :  0    38928\n",
      "1      680\n",
      "Name: X_57, dtype: int64\n",
      "21.09\n",
      "21.03\n",
      "변수 명 :  X_42\n",
      "IQR :  0.05999999999999872\n",
      "lower bound :  20.940000000000005\n",
      "upper bound :  21.18\n",
      "tmp['X_58'].value_counts() :  0    38770\n",
      "1      838\n",
      "Name: X_57, dtype: int64\n",
      "21.24\n",
      "21.17\n",
      "변수 명 :  X_43\n",
      "IQR :  0.06999999999999673\n",
      "lower bound :  21.065000000000005\n",
      "upper bound :  21.34499999999999\n",
      "tmp['X_58'].value_counts() :  0    38645\n",
      "1      963\n",
      "Name: X_57, dtype: int64\n",
      "21.2\n",
      "21.13\n",
      "변수 명 :  X_44\n",
      "IQR :  0.07000000000000028\n",
      "lower bound :  21.025\n",
      "upper bound :  21.305\n",
      "tmp['X_58'].value_counts() :  0    38590\n",
      "1     1018\n",
      "Name: X_57, dtype: int64\n",
      "0.19\n",
      "0.12\n",
      "변수 명 :  X_45\n",
      "IQR :  0.07\n",
      "lower bound :  0.014999999999999986\n",
      "upper bound :  0.29500000000000004\n",
      "tmp['X_58'].value_counts() :  0    38555\n",
      "1     1053\n",
      "Name: X_57, dtype: int64\n"
     ]
    }
   ],
   "source": [
    "for i in cols:\n",
    "    train_x = outlier_iqr(train_x, i)\n",
    "\n",
    "    \n",
    "\n",
    "X_57 = [0 for i in range(0, test_x.shape[0])]\n",
    "X_57 = pd.DataFrame(X_57)\n",
    "test_x['X_57'] = X_57\n",
    "\n",
    "for i in cols:\n",
    "    test_x = outlier_iqr(test_x, i)\n"
   ]
  },
  {
   "cell_type": "code",
   "execution_count": 34,
   "id": "6aa03409",
   "metadata": {},
   "outputs": [],
   "source": [
    "def objective(params):\n",
    "    params = {\n",
    "        'n_estimators': int(params['n_estimators']),\n",
    "        'max_depth': int(params['max_depth']),\n",
    "        'num_leaves': int(params['num_leaves']),\n",
    "        'min_child_samples': int(params['min_child_samples']),\n",
    "        'colsample_bytree': '{:.3f}'.format(params['colsample_bytree']),\n",
    "        'subsample': '{:.3f}'.format(params['subsample']),\n",
    "        'min_split_gain': '{:.3f}'.format(params['min_split_gain']),\n",
    "        'scale_pos_weight': '{:.3f}'.format(params['scale_pos_weight']),\n",
    "        'reg_alpha': '{:.3f}'.format(params['reg_alpha']),\n",
    "        'reg_lambda': '{:.3f}'.format(params['reg_lambda']),\n",
    "        'learning_rate': '{:.3f}'.format(params['learning_rate']),\n",
    "        \n",
    "    }\n",
    "    \n",
    "    model = MultiOutputRegressor(LGBMRegressor(n_jobs = -1, random_state = 1, **params))\n",
    "    \n",
    "    loss = -cross_val_score(model, train_x, train_y, cv=10, scoring=make_scorer(lg_nrmse, greater_is_better=False)).mean()\n",
    "    print(\"NRMSE Loss {:.5f} params {}\".format(loss, params))\n",
    "    return loss"
   ]
  },
  {
   "cell_type": "code",
   "execution_count": null,
   "id": "2148240d",
   "metadata": {},
   "outputs": [
    {
     "name": "stdout",
     "output_type": "stream",
     "text": [
      "NRMSE Loss 1.94515 params {'n_estimators': 1350, 'max_depth': 47, 'num_leaves': 20, 'min_child_samples': 240, 'colsample_bytree': '0.715', 'subsample': '0.657', 'min_split_gain': '0.655', 'scale_pos_weight': '4.117', 'reg_alpha': '22.649', 'reg_lambda': '55.509', 'learning_rate': '0.042'}\n",
      "NRMSE Loss 1.94646 params {'n_estimators': 1500, 'max_depth': 13, 'num_leaves': 90, 'min_child_samples': 110, 'colsample_bytree': '0.538', 'subsample': '0.901', 'min_split_gain': '0.652', 'scale_pos_weight': '7.202', 'reg_alpha': '1.693', 'reg_lambda': '75.762', 'learning_rate': '0.159'}\n",
      "NRMSE Loss 1.95334 params {'n_estimators': 250, 'max_depth': 67, 'num_leaves': 80, 'min_child_samples': 170, 'colsample_bytree': '0.387', 'subsample': '0.902', 'min_split_gain': '0.436', 'scale_pos_weight': '8.879', 'reg_alpha': '86.379', 'reg_lambda': '88.854', 'learning_rate': '0.039'}\n",
      "NRMSE Loss 1.95479 params {'n_estimators': 600, 'max_depth': 27, 'num_leaves': 60, 'min_child_samples': 120, 'colsample_bytree': '0.746', 'subsample': '0.876', 'min_split_gain': '0.176', 'scale_pos_weight': '8.211', 'reg_alpha': '86.702', 'reg_lambda': '25.897', 'learning_rate': '0.367'}\n",
      "NRMSE Loss 1.95472 params {'n_estimators': 900, 'max_depth': 74, 'num_leaves': 40, 'min_child_samples': 240, 'colsample_bytree': '0.410', 'subsample': '0.422', 'min_split_gain': '0.621', 'scale_pos_weight': '6.373', 'reg_alpha': '69.258', 'reg_lambda': '78.324', 'learning_rate': '0.264'}\n",
      "NRMSE Loss 1.95785 params {'n_estimators': 1400, 'max_depth': 63, 'num_leaves': 90, 'min_child_samples': 90, 'colsample_bytree': '0.376', 'subsample': '0.722', 'min_split_gain': '0.193', 'scale_pos_weight': '8.946', 'reg_alpha': '99.473', 'reg_lambda': '1.047', 'learning_rate': '0.389'}\n",
      "NRMSE Loss 1.94842 params {'n_estimators': 550, 'max_depth': 22, 'num_leaves': 70, 'min_child_samples': 30, 'colsample_bytree': '0.405', 'subsample': '0.727', 'min_split_gain': '0.219', 'scale_pos_weight': '4.841', 'reg_alpha': '73.952', 'reg_lambda': '35.964', 'learning_rate': '0.135'}\n",
      "NRMSE Loss 1.94513 params {'n_estimators': 350, 'max_depth': 43, 'num_leaves': 30, 'min_child_samples': 110, 'colsample_bytree': '0.534', 'subsample': '0.533', 'min_split_gain': '0.334', 'scale_pos_weight': '6.948', 'reg_alpha': '45.064', 'reg_lambda': '65.236', 'learning_rate': '0.056'}\n",
      "NRMSE Loss 1.95017 params {'n_estimators': 1150, 'max_depth': 47, 'num_leaves': 60, 'min_child_samples': 120, 'colsample_bytree': '0.694', 'subsample': '0.717', 'min_split_gain': '0.533', 'scale_pos_weight': '6.427', 'reg_alpha': '82.742', 'reg_lambda': '45.374', 'learning_rate': '0.011'}\n",
      "NRMSE Loss 1.93173 params {'n_estimators': 450, 'max_depth': 75, 'num_leaves': 70, 'min_child_samples': 50, 'colsample_bytree': '0.788', 'subsample': '0.949', 'min_split_gain': '0.162', 'scale_pos_weight': '5.934', 'reg_alpha': '1.526', 'reg_lambda': '70.520', 'learning_rate': '0.045'}\n",
      "NRMSE Loss 1.94598 params {'n_estimators': 950, 'max_depth': 44, 'num_leaves': 90, 'min_child_samples': 260, 'colsample_bytree': '0.748', 'subsample': '0.794', 'min_split_gain': '0.340', 'scale_pos_weight': '5.407', 'reg_alpha': '8.407', 'reg_lambda': '22.070', 'learning_rate': '0.125'}\n",
      "NRMSE Loss 1.96235 params {'n_estimators': 1050, 'max_depth': 49, 'num_leaves': 50, 'min_child_samples': 140, 'colsample_bytree': '0.854', 'subsample': '0.658', 'min_split_gain': '0.409', 'scale_pos_weight': '9.229', 'reg_alpha': '33.783', 'reg_lambda': '56.004', 'learning_rate': '0.454'}\n",
      "NRMSE Loss 1.95111 params {'n_estimators': 750, 'max_depth': 12, 'num_leaves': 60, 'min_child_samples': 210, 'colsample_bytree': '0.533', 'subsample': '0.594', 'min_split_gain': '0.220', 'scale_pos_weight': '9.762', 'reg_alpha': '93.720', 'reg_lambda': '51.486', 'learning_rate': '0.101'}\n",
      "NRMSE Loss 1.94448 params {'n_estimators': 200, 'max_depth': 8, 'num_leaves': 60, 'min_child_samples': 140, 'colsample_bytree': '0.830', 'subsample': '0.735', 'min_split_gain': '0.008', 'scale_pos_weight': '5.962', 'reg_alpha': '76.454', 'reg_lambda': '36.735', 'learning_rate': '0.050'}\n",
      "  7%|███▏                                          | 14/200 [16:53<3:29:38, 67.63s/trial, best loss: 1.931734441670762]"
     ]
    }
   ],
   "source": [
    "space = {\n",
    "    'n_estimators' : hp.quniform('n_estimators', 100, 1500, 50),\n",
    "    'max_depth': hp.quniform('max_depth', 3, 100, 1),\n",
    "    'num_leaves': hp.quniform('num_leaves', 20, 100, 10),\n",
    "    'min_child_samples': hp.quniform('min_child_samples', 10, 300, 10),\n",
    "    'colsample_bytree': hp.uniform('colsample_bytree', 0.3, 1.0),\n",
    "    'subsample': hp.uniform('subsample', 0.3, 1.0),\n",
    "    'min_split_gain': hp.uniform('min_split_gain', 0, 0.7),\n",
    "    'scale_pos_weight': hp.uniform('scale_pos_weight', 1, 10),\n",
    "    'reg_alpha': hp.uniform('reg_alpha', 0, 100),\n",
    "    'reg_lambda': hp.uniform('reg_lambda', 0, 100),\n",
    "    'learning_rate': hp.loguniform('learning_rate', np.log(0.01), np.log(0.5)),\n",
    "}\n",
    "\n",
    "best = fmin(fn = objective,\n",
    "            space = space,\n",
    "            algo = tpe.suggest,\n",
    "            max_evals = 200,\n",
    "            rstate=np.random.default_rng(1))"
   ]
  },
  {
   "cell_type": "code",
   "execution_count": null,
   "id": "6288e1f8",
   "metadata": {},
   "outputs": [],
   "source": [
    "model = MultiOutputRegressor(LGBMRegressor(n_jobs = -1, random_state = 1, **best))\n",
    "model.fit(train_x, train_y)\n",
    "preds = model.predict(test_x)"
   ]
  },
  {
   "cell_type": "code",
   "execution_count": null,
   "id": "86a1a534",
   "metadata": {},
   "outputs": [],
   "source": [
    "submit = pd.read_csv('./sample_submission.csv')\n",
    "for idx, col in enumerate(submit.columns):\n",
    "    if col=='ID':\n",
    "        continue\n",
    "    submit[col] = preds[:,idx-1]\n",
    "submit.to_csv('./submission_3.csv', index = False)"
   ]
  },
  {
   "cell_type": "code",
   "execution_count": null,
   "id": "cbff53b7",
   "metadata": {},
   "outputs": [],
   "source": []
  }
 ],
 "metadata": {
  "kernelspec": {
   "display_name": "Python 3 (ipykernel)",
   "language": "python",
   "name": "python3"
  },
  "language_info": {
   "codemirror_mode": {
    "name": "ipython",
    "version": 3
   },
   "file_extension": ".py",
   "mimetype": "text/x-python",
   "name": "python",
   "nbconvert_exporter": "python",
   "pygments_lexer": "ipython3",
   "version": "3.10.4"
  }
 },
 "nbformat": 4,
 "nbformat_minor": 5
}
