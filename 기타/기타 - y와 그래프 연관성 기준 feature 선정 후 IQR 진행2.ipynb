{
 "cells": [
  {
   "cell_type": "markdown",
   "id": "67008c4b",
   "metadata": {
    "id": "67008c4b"
   },
   "source": [
    "**Todo**:\n",
    "1. Transform features (must understand the sensor data before\n",
    "2. Remove unnecessary features (using what? correlation matrix, random forest, pca, ...)\n",
    "3. Combine different regression models (ensemble model) to evaluate the test dataset\n",
    "3. Try Deep Learning (Autoencoder, Vanilla... on google colab or on gpu server if you have an access)\n",
    "4. Look into paperswithcode website for experimental model\n",
    "5. Think about how to make a learning model explainable for decision\n",
    "6. Do some EDAs, don't have to be fancy or anything\n",
    "7. Post random code on the dacon website; uploading a code is part of the grade \n",
    "\n",
    "\n",
    "possibly more..."
   ]
  },
  {
   "cell_type": "markdown",
   "id": "e88c9f79",
   "metadata": {
    "id": "e88c9f79"
   },
   "source": [
    "### Import Libraries"
   ]
  },
  {
   "cell_type": "code",
   "execution_count": null,
   "id": "_aQUU0HsdniC",
   "metadata": {
    "colab": {
     "base_uri": "https://localhost:8080/"
    },
    "executionInfo": {
     "elapsed": 23620,
     "status": "ok",
     "timestamp": 1659443836474,
     "user": {
      "displayName": "서도형",
      "userId": "00855178377299686900"
     },
     "user_tz": -540
    },
    "id": "_aQUU0HsdniC",
    "outputId": "20a69fec-81b0-49a4-f0b4-3771553dbe88"
   },
   "outputs": [
    {
     "name": "stdout",
     "output_type": "stream",
     "text": [
      "Looking in indexes: https://pypi.org/simple, https://us-python.pkg.dev/colab-wheels/public/simple/\n",
      "Collecting optuna\n",
      "  Downloading optuna-2.10.1-py3-none-any.whl (308 kB)\n",
      "\u001b[K     |████████████████████████████████| 308 kB 11.7 MB/s \n",
      "\u001b[?25hCollecting colorlog\n",
      "  Downloading colorlog-6.6.0-py2.py3-none-any.whl (11 kB)\n",
      "Requirement already satisfied: tqdm in /usr/local/lib/python3.7/dist-packages (from optuna) (4.64.0)\n",
      "Requirement already satisfied: PyYAML in /usr/local/lib/python3.7/dist-packages (from optuna) (3.13)\n",
      "Requirement already satisfied: sqlalchemy>=1.1.0 in /usr/local/lib/python3.7/dist-packages (from optuna) (1.4.39)\n",
      "Requirement already satisfied: packaging>=20.0 in /usr/local/lib/python3.7/dist-packages (from optuna) (21.3)\n",
      "Collecting cliff\n",
      "  Downloading cliff-3.10.1-py3-none-any.whl (81 kB)\n",
      "\u001b[K     |████████████████████████████████| 81 kB 9.0 MB/s \n",
      "\u001b[?25hCollecting cmaes>=0.8.2\n",
      "  Downloading cmaes-0.8.2-py3-none-any.whl (15 kB)\n",
      "Requirement already satisfied: numpy in /usr/local/lib/python3.7/dist-packages (from optuna) (1.21.6)\n",
      "Collecting alembic\n",
      "  Downloading alembic-1.8.1-py3-none-any.whl (209 kB)\n",
      "\u001b[K     |████████████████████████████████| 209 kB 49.9 MB/s \n",
      "\u001b[?25hRequirement already satisfied: scipy!=1.4.0 in /usr/local/lib/python3.7/dist-packages (from optuna) (1.7.3)\n",
      "Requirement already satisfied: pyparsing!=3.0.5,>=2.0.2 in /usr/local/lib/python3.7/dist-packages (from packaging>=20.0->optuna) (3.0.9)\n",
      "Requirement already satisfied: greenlet!=0.4.17 in /usr/local/lib/python3.7/dist-packages (from sqlalchemy>=1.1.0->optuna) (1.1.2)\n",
      "Requirement already satisfied: importlib-metadata in /usr/local/lib/python3.7/dist-packages (from sqlalchemy>=1.1.0->optuna) (4.12.0)\n",
      "Collecting Mako\n",
      "  Downloading Mako-1.2.1-py3-none-any.whl (78 kB)\n",
      "\u001b[K     |████████████████████████████████| 78 kB 5.9 MB/s \n",
      "\u001b[?25hRequirement already satisfied: importlib-resources in /usr/local/lib/python3.7/dist-packages (from alembic->optuna) (5.9.0)\n",
      "Collecting pbr!=2.1.0,>=2.0.0\n",
      "  Downloading pbr-5.9.0-py2.py3-none-any.whl (112 kB)\n",
      "\u001b[K     |████████████████████████████████| 112 kB 48.2 MB/s \n",
      "\u001b[?25hCollecting cmd2>=1.0.0\n",
      "  Downloading cmd2-2.4.2-py3-none-any.whl (147 kB)\n",
      "\u001b[K     |████████████████████████████████| 147 kB 53.8 MB/s \n",
      "\u001b[?25hRequirement already satisfied: PrettyTable>=0.7.2 in /usr/local/lib/python3.7/dist-packages (from cliff->optuna) (3.3.0)\n",
      "Collecting stevedore>=2.0.1\n",
      "  Downloading stevedore-3.5.0-py3-none-any.whl (49 kB)\n",
      "\u001b[K     |████████████████████████████████| 49 kB 6.9 MB/s \n",
      "\u001b[?25hCollecting autopage>=0.4.0\n",
      "  Downloading autopage-0.5.1-py3-none-any.whl (29 kB)\n",
      "Collecting pyperclip>=1.6\n",
      "  Downloading pyperclip-1.8.2.tar.gz (20 kB)\n",
      "Requirement already satisfied: wcwidth>=0.1.7 in /usr/local/lib/python3.7/dist-packages (from cmd2>=1.0.0->cliff->optuna) (0.2.5)\n",
      "Requirement already satisfied: attrs>=16.3.0 in /usr/local/lib/python3.7/dist-packages (from cmd2>=1.0.0->cliff->optuna) (22.1.0)\n",
      "Requirement already satisfied: typing-extensions in /usr/local/lib/python3.7/dist-packages (from cmd2>=1.0.0->cliff->optuna) (4.1.1)\n",
      "Requirement already satisfied: zipp>=0.5 in /usr/local/lib/python3.7/dist-packages (from importlib-metadata->sqlalchemy>=1.1.0->optuna) (3.8.1)\n",
      "Requirement already satisfied: MarkupSafe>=0.9.2 in /usr/local/lib/python3.7/dist-packages (from Mako->alembic->optuna) (2.0.1)\n",
      "Building wheels for collected packages: pyperclip\n",
      "  Building wheel for pyperclip (setup.py) ... \u001b[?25l\u001b[?25hdone\n",
      "  Created wheel for pyperclip: filename=pyperclip-1.8.2-py3-none-any.whl size=11137 sha256=1f43eeb8defa6183e05b4e0d3c1b9764ffb0dcf0bd4be81c3d23d3cc425c3915\n",
      "  Stored in directory: /root/.cache/pip/wheels/9f/18/84/8f69f8b08169c7bae2dde6bd7daf0c19fca8c8e500ee620a28\n",
      "Successfully built pyperclip\n",
      "Installing collected packages: pyperclip, pbr, stevedore, Mako, cmd2, autopage, colorlog, cmaes, cliff, alembic, optuna\n",
      "Successfully installed Mako-1.2.1 alembic-1.8.1 autopage-0.5.1 cliff-3.10.1 cmaes-0.8.2 cmd2-2.4.2 colorlog-6.6.0 optuna-2.10.1 pbr-5.9.0 pyperclip-1.8.2 stevedore-3.5.0\n",
      "Looking in indexes: https://pypi.org/simple, https://us-python.pkg.dev/colab-wheels/public/simple/\n",
      "Requirement already satisfied: hyperopt in /usr/local/lib/python3.7/dist-packages (0.1.2)\n",
      "Requirement already satisfied: scipy in /usr/local/lib/python3.7/dist-packages (from hyperopt) (1.7.3)\n",
      "Requirement already satisfied: tqdm in /usr/local/lib/python3.7/dist-packages (from hyperopt) (4.64.0)\n",
      "Requirement already satisfied: six in /usr/local/lib/python3.7/dist-packages (from hyperopt) (1.15.0)\n",
      "Requirement already satisfied: future in /usr/local/lib/python3.7/dist-packages (from hyperopt) (0.16.0)\n",
      "Requirement already satisfied: pymongo in /usr/local/lib/python3.7/dist-packages (from hyperopt) (4.2.0)\n",
      "Requirement already satisfied: networkx in /usr/local/lib/python3.7/dist-packages (from hyperopt) (2.6.3)\n",
      "Requirement already satisfied: numpy in /usr/local/lib/python3.7/dist-packages (from hyperopt) (1.21.6)\n"
     ]
    }
   ],
   "source": [
    "!pip install optuna\n",
    "!pip install hyperopt"
   ]
  },
  {
   "cell_type": "code",
   "execution_count": 1,
   "id": "1eeb023b",
   "metadata": {
    "colab": {
     "base_uri": "https://localhost:8080/",
     "height": 394
    },
    "executionInfo": {
     "elapsed": 711,
     "status": "error",
     "timestamp": 1660129179552,
     "user": {
      "displayName": "서도형",
      "userId": "00855178377299686900"
     },
     "user_tz": -540
    },
    "id": "1eeb023b",
    "outputId": "0558c305-191b-4ef0-e900-6e44e913f81e"
   },
   "outputs": [
    {
     "name": "stderr",
     "output_type": "stream",
     "text": [
      "D:\\ai\\envs\\dacon\\lib\\site-packages\\tqdm\\auto.py:22: TqdmWarning: IProgress not found. Please update jupyter and ipywidgets. See https://ipywidgets.readthedocs.io/en/stable/user_install.html\n",
      "  from .autonotebook import tqdm as notebook_tqdm\n"
     ]
    }
   ],
   "source": [
    "import pandas as pd\n",
    "import random\n",
    "import os\n",
    "import numpy as np\n",
    "import optuna\n",
    "import seaborn as sns\n",
    "import matplotlib.pyplot as plt\n",
    "from functools import partial\n",
    "from lightgbm import LGBMRegressor\n",
    "import hyperopt\n",
    "from sklearn.linear_model import LinearRegression\n",
    "from sklearn.multioutput import MultiOutputRegressor\n",
    "from sklearn.model_selection import KFold, StratifiedKFold\n",
    "from sklearn.metrics import mean_squared_error\n",
    "from sklearn.model_selection import train_test_split\n",
    "\n",
    "from hyperopt import fmin, tpe, hp, atpe\n",
    "\n",
    "from collections import Counter\n"
   ]
  },
  {
   "cell_type": "code",
   "execution_count": 2,
   "id": "3ca7168d",
   "metadata": {
    "executionInfo": {
     "elapsed": 9,
     "status": "aborted",
     "timestamp": 1660129179546,
     "user": {
      "displayName": "서도형",
      "userId": "00855178377299686900"
     },
     "user_tz": -540
    },
    "id": "3ca7168d"
   },
   "outputs": [],
   "source": [
    "def seed_everything(seed):\n",
    "    random.seed(seed)\n",
    "    os.environ['PYTHONHASHSEED'] = str(seed)\n",
    "    np.random.seed(seed)\n",
    "seed_everything(42) # Seed 고정"
   ]
  },
  {
   "cell_type": "markdown",
   "id": "509008d5",
   "metadata": {
    "id": "509008d5"
   },
   "source": [
    "### Usable Functions "
   ]
  },
  {
   "cell_type": "code",
   "execution_count": 3,
   "id": "99a7e102",
   "metadata": {
    "executionInfo": {
     "elapsed": 10,
     "status": "aborted",
     "timestamp": 1660129179547,
     "user": {
      "displayName": "서도형",
      "userId": "00855178377299686900"
     },
     "user_tz": -540
    },
    "id": "99a7e102"
   },
   "outputs": [],
   "source": [
    "def dataset_split_X_y(df):    \n",
    "    \"\"\"\n",
    "    @Description: split data into features and labels\n",
    "    @Param: df, pandas dataframe with columns starting with X for features and Y for labels\n",
    "    @Return: features and labels in pandas dataframes\n",
    "    \"\"\"\n",
    "    xs = df.filter(regex='X') # Input : X Featrue\n",
    "    ys = df.filter(regex='Y') # Output : Y Feature\n",
    "    return xs, ys"
   ]
  },
  {
   "cell_type": "code",
   "execution_count": 4,
   "id": "4c64b4e5",
   "metadata": {
    "executionInfo": {
     "elapsed": 11,
     "status": "aborted",
     "timestamp": 1660129179548,
     "user": {
      "displayName": "서도형",
      "userId": "00855178377299686900"
     },
     "user_tz": -540
    },
    "id": "4c64b4e5"
   },
   "outputs": [],
   "source": [
    "def check_for_NAs(df, show=False):\n",
    "    \"\"\"\n",
    "    @Description: checks for the NAs in the dataframe\n",
    "    @Param1: df, pandas dataframe\n",
    "    @Param2: show, boolean indicating whether NaN data are also necessary as a part of the output\n",
    "    @Return: name of the columns with NaN\n",
    "    \"\"\"\n",
    "    nan_values = df.loc[:, df.isnull().any()]\n",
    "    if show:\n",
    "        return df[df.isna().any(axis=1)]\n",
    "    return list(nan_values.columns)"
   ]
  },
  {
   "cell_type": "code",
   "execution_count": 5,
   "id": "a359dd62",
   "metadata": {
    "executionInfo": {
     "elapsed": 11,
     "status": "aborted",
     "timestamp": 1660129179548,
     "user": {
      "displayName": "서도형",
      "userId": "00855178377299686900"
     },
     "user_tz": -540
    },
    "id": "a359dd62"
   },
   "outputs": [],
   "source": [
    "def check_for_label_bound(df, labels, bound):\n",
    "    \"\"\"\n",
    "    @Description: check bound is inbetween min and max\n",
    "    @Param1: df, pandas dataframe\n",
    "    @Param2: labels, list of column names \n",
    "    @Param3: thres: list of bounds\n",
    "    @Return: names of the columns not within the bound\n",
    "    \"\"\"\n",
    "    n = len(labels)\n",
    "    result = []\n",
    "    for idx in range(n):\n",
    "        col = labels[idx]\n",
    "        thres = bound[idx]\n",
    "        extracted_column = df[col]\n",
    "        if not extracted_column.between(thres[0], thres[1]).all():\n",
    "            result.append(labels[idx])\n",
    "    if len(result) == 0:\n",
    "        print('everything is within the bound')\n",
    "    return result"
   ]
  },
  {
   "cell_type": "code",
   "execution_count": 6,
   "id": "55084511",
   "metadata": {
    "executionInfo": {
     "elapsed": 11,
     "status": "aborted",
     "timestamp": 1660129179549,
     "user": {
      "displayName": "서도형",
      "userId": "00855178377299686900"
     },
     "user_tz": -540
    },
    "id": "55084511"
   },
   "outputs": [],
   "source": [
    "def zero_variance(df):\n",
    "    \"\"\"\n",
    "    @Description: check for zero_variance\n",
    "    @Param1: df, pandas dataframe\n",
    "    @Return: names of the columns with zero variance\n",
    "    \"\"\"\n",
    "    result = []\n",
    "    for col in train_x.columns:\n",
    "        if train_x[col].var() == 0:\n",
    "            result.append(col)\n",
    "    return result"
   ]
  },
  {
   "cell_type": "code",
   "execution_count": 7,
   "id": "c636f27d",
   "metadata": {
    "executionInfo": {
     "elapsed": 11,
     "status": "aborted",
     "timestamp": 1660129179549,
     "user": {
      "displayName": "서도형",
      "userId": "00855178377299686900"
     },
     "user_tz": -540
    },
    "id": "c636f27d"
   },
   "outputs": [],
   "source": [
    "def get_top_correlation(df, n=10):\n",
    "    \"\"\"\n",
    "    @Description: print out top correlated features\n",
    "    @Param1: df, pandas dataframe\n",
    "    @Param2: n, number of lines to print \n",
    "    @Return: pandas series\n",
    "    \"\"\"\n",
    "    pairs = set()\n",
    "    for idx1 in range(0, df.shape[1]):\n",
    "        for idx2 in range(0, idx1+1):\n",
    "            pairs.add((df.columns[idx1], df.columns[idx2]))\n",
    "    corr = df.corr().abs().unstack()\n",
    "    corr = corr.drop(labels=pairs).sort_values(ascending=False)\n",
    "    return corr[0:n]"
   ]
  },
  {
   "cell_type": "code",
   "execution_count": 8,
   "id": "575a03c0",
   "metadata": {
    "executionInfo": {
     "elapsed": 12,
     "status": "aborted",
     "timestamp": 1660129179550,
     "user": {
      "displayName": "서도형",
      "userId": "00855178377299686900"
     },
     "user_tz": -540
    },
    "id": "575a03c0"
   },
   "outputs": [],
   "source": [
    "def adjacent_histogram_boxplot(feature_var, figsize = (7, 5)):\n",
    "    \"\"\"\n",
    "    @Description: plot histogram and boxplot in next to each other\n",
    "    @Param1: feature_var, pandas series \n",
    "    @Param2: figsize, size of the figure \n",
    "    \"\"\"\n",
    "    fig, (hist_plot, box_plot) = plt.subplots(nrows=2, sharex=True, gridspec_kw={'height_ratios':(.85,.15)}, figsize=figsize)\n",
    "    sns.distplot(feature_var, kde=True, ax=hist_plot, kde_kws= {\"linewidth\":1.5}) \n",
    "    sns.boxplot(feature_var, ax=box_plot, linewidth = 1, width = 0.5)\n",
    "    hist_plot.set_ylabel('')    \n",
    "    hist_plot.set_xlabel('')\n",
    "    box_plot.set_xlabel('')\n",
    "    hist_plot.tick_params(labelsize=8)\n",
    "    box_plot.tick_params(labelsize=8)\n",
    "    fig.suptitle(feature_var.name, fontsize = 10)\n",
    "    hist_plot.axvline(np.mean(feature_var),color='red',linestyle='-',lw = 1.5)\n",
    "    hist_plot.axvline(np.median(feature_var),color='green',linestyle='--',lw = 1.5)\n",
    "    "
   ]
  },
  {
   "cell_type": "code",
   "execution_count": 9,
   "id": "f34aea95",
   "metadata": {
    "executionInfo": {
     "elapsed": 12,
     "status": "aborted",
     "timestamp": 1660129179550,
     "user": {
      "displayName": "서도형",
      "userId": "00855178377299686900"
     },
     "user_tz": -540
    },
    "id": "f34aea95"
   },
   "outputs": [],
   "source": [
    "def lg_nrmse(gt, preds):\n",
    "    \"\"\"\n",
    "    @Description: Metric used in this project\n",
    "    @Params1: gt, pandas dataframe\n",
    "    @Param2: preds, pandas dataframe\n",
    "    @Return: nrmse score\n",
    "    \"\"\"\n",
    "    # 각 Y Feature별 NRMSE 총합\n",
    "    # Y_01 ~ Y_08 까지 20% 가중치 부여\n",
    "    preds = pd.DataFrame(preds)\n",
    "    all_nrmse = []\n",
    "    for idx in range(0,14):\n",
    "        rmse = mean_squared_error(gt.iloc[:,idx], preds.iloc[:,idx], squared=False)\n",
    "        nrmse = rmse/np.mean(np.abs(gt.iloc[:,idx]))\n",
    "        all_nrmse.append(nrmse)\n",
    "    score = 1.2 * np.sum(all_nrmse[:8]) + 1.0 * np.sum(all_nrmse[8:15])\n",
    "    return score"
   ]
  },
  {
   "cell_type": "code",
   "execution_count": 10,
   "id": "35384db8",
   "metadata": {
    "executionInfo": {
     "elapsed": 12,
     "status": "aborted",
     "timestamp": 1660129179551,
     "user": {
      "displayName": "서도형",
      "userId": "00855178377299686900"
     },
     "user_tz": -540
    },
    "id": "35384db8"
   },
   "outputs": [],
   "source": [
    "# ys = ['Y_01', 'Y_02', 'Y_03', 'Y_04', 'Y_05', \n",
    "#       'Y_06', 'Y_07', 'Y_08', 'Y_09', 'Y_10', \n",
    "#       'Y_11', 'Y_12', 'Y_13', 'Y_14']\n",
    "# ys_bounds = [[0.2, 2], [0.2, 2.1], [0.2, 2.1], \n",
    "#              [7, 19], [22, 36.5], [-19.2, 19], \n",
    "#              [2.4, 4], [-29.2, -24], [-29.2, -24],\n",
    "#              [-30.6, -20], [19.6, 26.6], [-29.2, -24],\n",
    "#              [-29.2, -24], [-29.2, -24]]"
   ]
  },
  {
   "cell_type": "markdown",
   "id": "aaa06981",
   "metadata": {
    "id": "aaa06981"
   },
   "source": [
    "### Load Dataset"
   ]
  },
  {
   "cell_type": "code",
   "execution_count": 388,
   "id": "0439e164",
   "metadata": {
    "executionInfo": {
     "elapsed": 12,
     "status": "aborted",
     "timestamp": 1660129179551,
     "user": {
      "displayName": "서도형",
      "userId": "00855178377299686900"
     },
     "user_tz": -540
    },
    "id": "0439e164"
   },
   "outputs": [],
   "source": [
    "train_df = pd.read_csv('data/train.csv')\n",
    "test_x = pd.read_csv('data/test.csv')\n",
    "train_x, train_y = dataset_split_X_y(train_df)\n",
    "\n",
    "train_y_info = pd.read_csv('data/meta/y_feature_spec_info.csv')"
   ]
  },
  {
   "cell_type": "markdown",
   "id": "e22c7c7e",
   "metadata": {
    "id": "e22c7c7e"
   },
   "source": [
    "### Exploratory Data Analysis"
   ]
  },
  {
   "cell_type": "code",
   "execution_count": 389,
   "id": "pEI2g8gki22A",
   "metadata": {
    "executionInfo": {
     "elapsed": 5,
     "status": "aborted",
     "timestamp": 1659443864068,
     "user": {
      "displayName": "서도형",
      "userId": "00855178377299686900"
     },
     "user_tz": -540
    },
    "id": "pEI2g8gki22A",
    "outputId": "2a89250e-375b-4830-8333-5af743de3d12"
   },
   "outputs": [
    {
     "data": {
      "text/html": [
       "<div>\n",
       "<style scoped>\n",
       "    .dataframe tbody tr th:only-of-type {\n",
       "        vertical-align: middle;\n",
       "    }\n",
       "\n",
       "    .dataframe tbody tr th {\n",
       "        vertical-align: top;\n",
       "    }\n",
       "\n",
       "    .dataframe thead th {\n",
       "        text-align: right;\n",
       "    }\n",
       "</style>\n",
       "<table border=\"1\" class=\"dataframe\">\n",
       "  <thead>\n",
       "    <tr style=\"text-align: right;\">\n",
       "      <th></th>\n",
       "      <th>X_01</th>\n",
       "      <th>X_02</th>\n",
       "      <th>X_03</th>\n",
       "      <th>X_04</th>\n",
       "      <th>X_05</th>\n",
       "      <th>X_06</th>\n",
       "      <th>X_07</th>\n",
       "      <th>X_08</th>\n",
       "      <th>X_09</th>\n",
       "      <th>X_10</th>\n",
       "      <th>...</th>\n",
       "      <th>X_47</th>\n",
       "      <th>X_48</th>\n",
       "      <th>X_49</th>\n",
       "      <th>X_50</th>\n",
       "      <th>X_51</th>\n",
       "      <th>X_52</th>\n",
       "      <th>X_53</th>\n",
       "      <th>X_54</th>\n",
       "      <th>X_55</th>\n",
       "      <th>X_56</th>\n",
       "    </tr>\n",
       "  </thead>\n",
       "  <tbody>\n",
       "    <tr>\n",
       "      <th>count</th>\n",
       "      <td>39607.000000</td>\n",
       "      <td>39607.000000</td>\n",
       "      <td>39607.000000</td>\n",
       "      <td>39607.0</td>\n",
       "      <td>39607.000000</td>\n",
       "      <td>39607.000000</td>\n",
       "      <td>39607.000000</td>\n",
       "      <td>39607.000000</td>\n",
       "      <td>39607.000000</td>\n",
       "      <td>39607.000000</td>\n",
       "      <td>...</td>\n",
       "      <td>39607.0</td>\n",
       "      <td>39607.0</td>\n",
       "      <td>39607.000000</td>\n",
       "      <td>39607.000000</td>\n",
       "      <td>39607.000000</td>\n",
       "      <td>39607.000000</td>\n",
       "      <td>39607.000000</td>\n",
       "      <td>39607.000000</td>\n",
       "      <td>39607.000000</td>\n",
       "      <td>39607.000000</td>\n",
       "    </tr>\n",
       "    <tr>\n",
       "      <th>mean</th>\n",
       "      <td>68.412040</td>\n",
       "      <td>103.320166</td>\n",
       "      <td>68.826354</td>\n",
       "      <td>1.0</td>\n",
       "      <td>102.337203</td>\n",
       "      <td>70.597211</td>\n",
       "      <td>29.407490</td>\n",
       "      <td>164.449320</td>\n",
       "      <td>225.397470</td>\n",
       "      <td>0.002449</td>\n",
       "      <td>...</td>\n",
       "      <td>1.0</td>\n",
       "      <td>1.0</td>\n",
       "      <td>16676.913639</td>\n",
       "      <td>130.774557</td>\n",
       "      <td>131.457418</td>\n",
       "      <td>138.587595</td>\n",
       "      <td>127.992420</td>\n",
       "      <td>128.014110</td>\n",
       "      <td>137.884711</td>\n",
       "      <td>128.441119</td>\n",
       "    </tr>\n",
       "    <tr>\n",
       "      <th>std</th>\n",
       "      <td>2.655983</td>\n",
       "      <td>0.000372</td>\n",
       "      <td>5.151167</td>\n",
       "      <td>0.0</td>\n",
       "      <td>0.548353</td>\n",
       "      <td>2.259820</td>\n",
       "      <td>7.338204</td>\n",
       "      <td>220.402444</td>\n",
       "      <td>66.734725</td>\n",
       "      <td>0.086255</td>\n",
       "      <td>...</td>\n",
       "      <td>0.0</td>\n",
       "      <td>0.0</td>\n",
       "      <td>8584.427420</td>\n",
       "      <td>5.989845</td>\n",
       "      <td>5.934313</td>\n",
       "      <td>6.469813</td>\n",
       "      <td>5.713153</td>\n",
       "      <td>5.433958</td>\n",
       "      <td>6.552101</td>\n",
       "      <td>5.444245</td>\n",
       "    </tr>\n",
       "    <tr>\n",
       "      <th>min</th>\n",
       "      <td>56.268000</td>\n",
       "      <td>103.320000</td>\n",
       "      <td>56.470000</td>\n",
       "      <td>1.0</td>\n",
       "      <td>101.774000</td>\n",
       "      <td>61.726000</td>\n",
       "      <td>14.140000</td>\n",
       "      <td>38.460000</td>\n",
       "      <td>37.580000</td>\n",
       "      <td>0.000000</td>\n",
       "      <td>...</td>\n",
       "      <td>1.0</td>\n",
       "      <td>1.0</td>\n",
       "      <td>3341.830000</td>\n",
       "      <td>21.800000</td>\n",
       "      <td>21.910000</td>\n",
       "      <td>23.100000</td>\n",
       "      <td>21.330000</td>\n",
       "      <td>21.340000</td>\n",
       "      <td>22.980000</td>\n",
       "      <td>21.410000</td>\n",
       "    </tr>\n",
       "    <tr>\n",
       "      <th>25%</th>\n",
       "      <td>66.465000</td>\n",
       "      <td>103.320000</td>\n",
       "      <td>65.070000</td>\n",
       "      <td>1.0</td>\n",
       "      <td>101.949000</td>\n",
       "      <td>68.864000</td>\n",
       "      <td>27.890000</td>\n",
       "      <td>105.990000</td>\n",
       "      <td>188.540000</td>\n",
       "      <td>0.000000</td>\n",
       "      <td>...</td>\n",
       "      <td>1.0</td>\n",
       "      <td>1.0</td>\n",
       "      <td>13093.930000</td>\n",
       "      <td>126.948571</td>\n",
       "      <td>127.669758</td>\n",
       "      <td>134.475401</td>\n",
       "      <td>124.374525</td>\n",
       "      <td>124.697879</td>\n",
       "      <td>133.744103</td>\n",
       "      <td>125.134713</td>\n",
       "    </tr>\n",
       "    <tr>\n",
       "      <th>50%</th>\n",
       "      <td>68.504000</td>\n",
       "      <td>103.320000</td>\n",
       "      <td>67.270000</td>\n",
       "      <td>1.0</td>\n",
       "      <td>102.006000</td>\n",
       "      <td>69.884000</td>\n",
       "      <td>28.840000</td>\n",
       "      <td>115.040000</td>\n",
       "      <td>234.450000</td>\n",
       "      <td>0.000000</td>\n",
       "      <td>...</td>\n",
       "      <td>1.0</td>\n",
       "      <td>1.0</td>\n",
       "      <td>15273.330000</td>\n",
       "      <td>130.723378</td>\n",
       "      <td>131.352856</td>\n",
       "      <td>138.525575</td>\n",
       "      <td>128.020010</td>\n",
       "      <td>128.098728</td>\n",
       "      <td>137.900952</td>\n",
       "      <td>128.414501</td>\n",
       "    </tr>\n",
       "    <tr>\n",
       "      <th>75%</th>\n",
       "      <td>69.524000</td>\n",
       "      <td>103.320000</td>\n",
       "      <td>71.770000</td>\n",
       "      <td>1.0</td>\n",
       "      <td>103.144000</td>\n",
       "      <td>71.923000</td>\n",
       "      <td>29.870000</td>\n",
       "      <td>132.620000</td>\n",
       "      <td>263.960000</td>\n",
       "      <td>0.000000</td>\n",
       "      <td>...</td>\n",
       "      <td>1.0</td>\n",
       "      <td>1.0</td>\n",
       "      <td>17560.180000</td>\n",
       "      <td>134.538998</td>\n",
       "      <td>135.170761</td>\n",
       "      <td>142.702448</td>\n",
       "      <td>131.618662</td>\n",
       "      <td>131.487423</td>\n",
       "      <td>142.073102</td>\n",
       "      <td>131.839764</td>\n",
       "    </tr>\n",
       "    <tr>\n",
       "      <th>max</th>\n",
       "      <td>84.820000</td>\n",
       "      <td>103.321000</td>\n",
       "      <td>89.170000</td>\n",
       "      <td>1.0</td>\n",
       "      <td>103.160000</td>\n",
       "      <td>87.219000</td>\n",
       "      <td>163.860000</td>\n",
       "      <td>2387.440000</td>\n",
       "      <td>637.490000</td>\n",
       "      <td>3.600000</td>\n",
       "      <td>...</td>\n",
       "      <td>1.0</td>\n",
       "      <td>1.0</td>\n",
       "      <td>114563.630000</td>\n",
       "      <td>162.619458</td>\n",
       "      <td>194.513195</td>\n",
       "      <td>173.438623</td>\n",
       "      <td>152.406630</td>\n",
       "      <td>175.052891</td>\n",
       "      <td>170.155980</td>\n",
       "      <td>155.277538</td>\n",
       "    </tr>\n",
       "  </tbody>\n",
       "</table>\n",
       "<p>8 rows × 56 columns</p>\n",
       "</div>"
      ],
      "text/plain": [
       "               X_01          X_02          X_03     X_04          X_05  \\\n",
       "count  39607.000000  39607.000000  39607.000000  39607.0  39607.000000   \n",
       "mean      68.412040    103.320166     68.826354      1.0    102.337203   \n",
       "std        2.655983      0.000372      5.151167      0.0      0.548353   \n",
       "min       56.268000    103.320000     56.470000      1.0    101.774000   \n",
       "25%       66.465000    103.320000     65.070000      1.0    101.949000   \n",
       "50%       68.504000    103.320000     67.270000      1.0    102.006000   \n",
       "75%       69.524000    103.320000     71.770000      1.0    103.144000   \n",
       "max       84.820000    103.321000     89.170000      1.0    103.160000   \n",
       "\n",
       "               X_06          X_07          X_08          X_09          X_10  \\\n",
       "count  39607.000000  39607.000000  39607.000000  39607.000000  39607.000000   \n",
       "mean      70.597211     29.407490    164.449320    225.397470      0.002449   \n",
       "std        2.259820      7.338204    220.402444     66.734725      0.086255   \n",
       "min       61.726000     14.140000     38.460000     37.580000      0.000000   \n",
       "25%       68.864000     27.890000    105.990000    188.540000      0.000000   \n",
       "50%       69.884000     28.840000    115.040000    234.450000      0.000000   \n",
       "75%       71.923000     29.870000    132.620000    263.960000      0.000000   \n",
       "max       87.219000    163.860000   2387.440000    637.490000      3.600000   \n",
       "\n",
       "       ...     X_47     X_48           X_49          X_50          X_51  \\\n",
       "count  ...  39607.0  39607.0   39607.000000  39607.000000  39607.000000   \n",
       "mean   ...      1.0      1.0   16676.913639    130.774557    131.457418   \n",
       "std    ...      0.0      0.0    8584.427420      5.989845      5.934313   \n",
       "min    ...      1.0      1.0    3341.830000     21.800000     21.910000   \n",
       "25%    ...      1.0      1.0   13093.930000    126.948571    127.669758   \n",
       "50%    ...      1.0      1.0   15273.330000    130.723378    131.352856   \n",
       "75%    ...      1.0      1.0   17560.180000    134.538998    135.170761   \n",
       "max    ...      1.0      1.0  114563.630000    162.619458    194.513195   \n",
       "\n",
       "               X_52          X_53          X_54          X_55          X_56  \n",
       "count  39607.000000  39607.000000  39607.000000  39607.000000  39607.000000  \n",
       "mean     138.587595    127.992420    128.014110    137.884711    128.441119  \n",
       "std        6.469813      5.713153      5.433958      6.552101      5.444245  \n",
       "min       23.100000     21.330000     21.340000     22.980000     21.410000  \n",
       "25%      134.475401    124.374525    124.697879    133.744103    125.134713  \n",
       "50%      138.525575    128.020010    128.098728    137.900952    128.414501  \n",
       "75%      142.702448    131.618662    131.487423    142.073102    131.839764  \n",
       "max      173.438623    152.406630    175.052891    170.155980    155.277538  \n",
       "\n",
       "[8 rows x 56 columns]"
      ]
     },
     "execution_count": 389,
     "metadata": {},
     "output_type": "execute_result"
    }
   ],
   "source": [
    "train_x.describe()"
   ]
  },
  {
   "cell_type": "code",
   "execution_count": 390,
   "id": "6307304e",
   "metadata": {
    "id": "6307304e",
    "outputId": "74d091ff-3403-4f76-a0ac-76de2673d84c"
   },
   "outputs": [
    {
     "data": {
      "image/png": "[encoded data removed]",
      "text/plain": [
       "<Figure size 1008x576 with 2 Axes>"
      ]
     },
     "metadata": {
      "needs_background": "light"
     },
     "output_type": "display_data"
    }
   ],
   "source": [
    "# Co-relation 매트릭스\n",
    "corr = train_df.corr()\n",
    "# 마스크 셋업\n",
    "mask = np.zeros_like(corr, dtype=np.bool)\n",
    "mask[np.triu_indices_from(mask)] = True\n",
    "# 그래프 셋업\n",
    "plt.figure(figsize=(14, 8))\n",
    "# 그래프 타이틀\n",
    "plt.title('Overall Correlation of Titanic Features', fontsize=18)\n",
    "# Co-relation 매트릭스 런칭\n",
    "sns.heatmap(corr, mask=mask, annot=False,cmap='RdYlGn', linewidths=0.2, annot_kws={'size':20})\n",
    "plt.show()"
   ]
  },
  {
   "cell_type": "code",
   "execution_count": 748,
   "id": "1a5ad956",
   "metadata": {},
   "outputs": [],
   "source": [
    "train_df = pd.read_csv('data/train.csv')\n",
    "test_x = pd.read_csv('data/test.csv')\n",
    "train_x, train_y = dataset_split_X_y(train_df)\n",
    "\n",
    "train_y_info = pd.read_csv('data/meta/y_feature_spec_info.csv')"
   ]
  },
  {
   "cell_type": "code",
   "execution_count": 677,
   "id": "9980e89c",
   "metadata": {},
   "outputs": [],
   "source": [
    "valid_cols1 = [\"X_01\",  \"X_03\"]\n",
    "valid_cols2 = [\"X_05\", \"X_06\", \"X_07\", \"X_09\"\n",
    "               ,  \"X_13\", \"X_14\", \"X_15\", \"X_16\", \"X_17\", \"X_18\", \"X_19\", \"X_20\", \"X_21\", \"X_22\"]\n",
    "valid_cols3 = [\"X_24\", \"X_25\", \"X_26\", \"X_27\", \"X_28\", \"X_29\",  \"X_34\", \"X_35\", \"X_36\", \"X_37\"]\n",
    "valid_cols4 = [\"X_38\", \"X_39\", \"X_40\", \"X_41\", \"X_42\", \"X_43\", \"X_44\", \"X_45\"]\n",
    "valid_cols5 = [\"X_50\", \"X_51\", \"X_52\", \"X_53\", \"X_54\", \"X_55\", \"X_56\"]"
   ]
  },
  {
   "cell_type": "code",
   "execution_count": 749,
   "id": "4f5b7698",
   "metadata": {
    "id": "4f5b7698"
   },
   "outputs": [],
   "source": [
    "def outlier_iqr(tmp, i, nm):\n",
    "    data = tmp[i]\n",
    "    \n",
    "    print(np.percentile(data,75))\n",
    "    print(np.percentile(data,25))\n",
    "    q25, q75 = np.percentile(data, 25), np.percentile(data,75)\n",
    "    iqr = q75 - q25\n",
    "    \n",
    "    cut_off = iqr * 1.5\n",
    "    lower, upper = q25 - cut_off, q75 + cut_off\n",
    "    print('변수 명 : ',i)\n",
    "    print('IQR : ', iqr)\n",
    "    print('lower bound : ', lower)\n",
    "    print('upper bound : ', upper)\n",
    "    \n",
    "    tmp[nm] = np.where(data < upper, \n",
    "                    np.where(tmp[nm] == 0, 0, 1), \n",
    "                    np.where(tmp[nm] == 0, 1, 1))\n",
    "    tmp[nm] = np.where(data>lower, \n",
    "                    np.where(tmp[nm] == 0, 0, 1), \n",
    "                    np.where(tmp[nm] == 0, 1, 1))\n",
    "    \n",
    "    print(\"tmp[nm].value_counts() : \", tmp[nm].value_counts());\n",
    "    return tmp"
   ]
  },
  {
   "cell_type": "code",
   "execution_count": null,
   "id": "bffa7838",
   "metadata": {},
   "outputs": [],
   "source": []
  },
  {
   "cell_type": "code",
   "execution_count": 652,
   "id": "a19fd29f",
   "metadata": {},
   "outputs": [],
   "source": [
    "# 4 23 47 48"
   ]
  },
  {
   "cell_type": "code",
   "execution_count": 750,
   "id": "a5efd861",
   "metadata": {},
   "outputs": [],
   "source": [
    "X_57 = [0 for i in range(train_x.shape[0])]\n",
    "len(X_57)\n",
    "X_57 = pd.DataFrame(X_57)\n",
    "train_x['X_57'] = X_57"
   ]
  },
  {
   "cell_type": "code",
   "execution_count": 595,
   "id": "8475fdc3",
   "metadata": {},
   "outputs": [],
   "source": [
    "X_04 = [0 for i in range(train_x.shape[0])]\n",
    "len(X_04)\n",
    "X_04 = pd.DataFrame(X_04)\n",
    "train_x['X_04'] = X_04"
   ]
  },
  {
   "cell_type": "code",
   "execution_count": 596,
   "id": "2d1a58cc",
   "metadata": {},
   "outputs": [],
   "source": [
    "X_23 = [0 for i in range(train_x.shape[0])]\n",
    "len(X_23)\n",
    "X_23 = pd.DataFrame(X_23)\n",
    "train_x['X_23'] = X_23"
   ]
  },
  {
   "cell_type": "code",
   "execution_count": 597,
   "id": "0db18b06",
   "metadata": {},
   "outputs": [],
   "source": [
    "X_47 = [0 for i in range(train_x.shape[0])]\n",
    "len(X_47)\n",
    "X_57 = pd.DataFrame(X_47)\n",
    "train_x['X_47'] = X_47"
   ]
  },
  {
   "cell_type": "code",
   "execution_count": 598,
   "id": "c5db7a89",
   "metadata": {},
   "outputs": [],
   "source": [
    "X_48 = [0 for i in range(train_x.shape[0])]\n",
    "len(X_48)\n",
    "X_48 = pd.DataFrame(X_48)\n",
    "train_x['X_48'] = X_48"
   ]
  },
  {
   "cell_type": "code",
   "execution_count": null,
   "id": "ce043b98",
   "metadata": {},
   "outputs": [],
   "source": []
  },
  {
   "cell_type": "code",
   "execution_count": null,
   "id": "f2e35af0",
   "metadata": {},
   "outputs": [],
   "source": []
  },
  {
   "cell_type": "code",
   "execution_count": 563,
   "id": "a421ed34",
   "metadata": {},
   "outputs": [
    {
     "name": "stdout",
     "output_type": "stream",
     "text": [
      "['X_04', 'X_23', 'X_47', 'X_48', 'X_57']\n"
     ]
    }
   ],
   "source": [
    "cols_with_zero_variance = zero_variance(train_x)\n",
    "print(cols_with_zero_variance)"
   ]
  },
  {
   "cell_type": "code",
   "execution_count": 564,
   "id": "7d7a3f50",
   "metadata": {},
   "outputs": [],
   "source": [
    "# 1차 시도 (이상치 수 기준)\n",
    "cols = [\"X_12\", \"X_13\", \"X_14\",\"X_16\", \"X_17\", \"X_19\", \"X_20\", \"X_24\", \"X_25\",  \"X_27\", \"X_42\", \"X_43\", \"X_44\"]\n"
   ]
  },
  {
   "cell_type": "code",
   "execution_count": 565,
   "id": "40d04c42",
   "metadata": {},
   "outputs": [],
   "source": [
    "# 2차 시도 (y와 corr 기준)\n",
    "cols = [\"X_10\", \"X_11\", \"X_14\",\"X_15\",\"X_16\", \"X_17\", \"X_18\", \"X_19\", \"X_20\", \"X_21\",\"X_22\",\n",
    "        \"X_24\", \"X_25\", \"X_26\", \"X_27\", \"X_28\",\"X_29\",\"X_38\", \"X_39\", \"X_40\",\"X_41\",\"X_42\",\"X_43\", \"X_44\",\"X_45\",]\n"
   ]
  },
  {
   "cell_type": "code",
   "execution_count": 566,
   "id": "7234c2c4",
   "metadata": {},
   "outputs": [],
   "source": [
    "# 2차 시도 (y와 corr 기준) fixed\n",
    "cols = [\"X_14\",\"X_15\",\"X_16\", \"X_17\", \"X_18\", \"X_19\", \"X_20\", \"X_21\",\"X_22\",\n",
    "        \"X_24\", \"X_25\", \"X_26\", \"X_27\", \"X_28\",\"X_29\",\"X_38\", \"X_39\", \"X_40\",\"X_41\",\"X_42\",\"X_43\", \"X_44\",\"X_45\",]\n"
   ]
  },
  {
   "cell_type": "code",
   "execution_count": 567,
   "id": "0e2aad35",
   "metadata": {},
   "outputs": [],
   "source": [
    "# 2차 시도 (y와 corr 기준) fixed 2\n",
    "cols = [\"X_14\",\"X_15\",\"X_16\", \"X_17\", \"X_18\", \"X_19\", \"X_20\", \"X_21\",\"X_22\",\n",
    "        \"X_24\", \"X_25\", \"X_26\", \"X_27\", \"X_28\",\"X_29\", \"X_39\", \"X_40\",\"X_41\",\"X_42\",\"X_43\", \"X_44\",\"X_45\",]\n"
   ]
  },
  {
   "cell_type": "code",
   "execution_count": 568,
   "id": "b4827c22",
   "metadata": {},
   "outputs": [],
   "source": [
    "# 2차 시도 (y와 corr 기준) fixed 3\n",
    "cols = [\"X_14\",\"X_15\",\"X_16\", \"X_17\", \"X_18\", \"X_19\", \"X_20\", \"X_21\",\"X_22\",\n",
    "        \"X_24\", \"X_25\", \"X_26\", \"X_27\", \"X_28\",\"X_29\"]\n"
   ]
  },
  {
   "cell_type": "code",
   "execution_count": 280,
   "id": "117075b3",
   "metadata": {},
   "outputs": [],
   "source": [
    "# 3차 시도 (y와 corr 기준)\n",
    "cols = [\"X_01\",\"X_06\", \"X_13\", \"X_14\",\"X_15\",\"X_16\", \"X_17\", \"X_18\", \"X_19\", \"X_20\", \"X_21\",\"X_22\",\n",
    "        \"X_24\", \"X_25\", \"X_26\", \"X_27\", \"X_28\",\"X_29\",\"X_38\", \"X_39\", \"X_40\",\"X_41\",\"X_42\",\"X_43\", \"X_44\",\"X_45\",\"X_52\",\"X_55\",]\n"
   ]
  },
  {
   "cell_type": "code",
   "execution_count": 724,
   "id": "b426ce64",
   "metadata": {},
   "outputs": [],
   "source": [
    "# 2차 시도 (y와 corr 기준) fixed 2 !!!!!!!!!!\n",
    "cols = [\"X_14\",\"X_15\", \"X_17\", \"X_18\", \"X_19\", \"X_20\", \"X_21\",\"X_22\",\n",
    "        \"X_24\", \"X_25\", \"X_26\", \"X_27\", \"X_28\",\"X_29\", \"X_41\",\"X_42\",\"X_43\", \"X_44\",\"X_45\"]\n"
   ]
  },
  {
   "cell_type": "code",
   "execution_count": 249,
   "id": "b8279162",
   "metadata": {},
   "outputs": [],
   "source": [
    "cols = [\"X_11\", \"X_14\",\"X_15\", \"X_16\", \"X_17\", \"X_18\", \"X_19\", \"X_20\", \"X_21\",\"X_22\",\n",
    "        \"X_24\", \"X_25\", \"X_26\", \"X_27\", \"X_28\",\"X_29\", \n",
    "        \"X_30\", \"X_31\", \"X_32\", \"X_33\",\n",
    "        \"X_34\", \"X_35\", \"X_36\", \"X_37\", \n",
    "        \"X_39\", \"X_40\",\"X_41\",\"X_42\",\"X_43\", \"X_44\",\"X_45\"\n",
    "       ]"
   ]
  },
  {
   "cell_type": "code",
   "execution_count": 751,
   "id": "e9d0648b",
   "metadata": {},
   "outputs": [],
   "source": [
    "# 2차 시도 (y와 corr 기준) fixed 2 !!!!!!!!!!\n",
    "cols = [\"X_41\",\"X_42\",\"X_43\", \"X_44\",\"X_45\"]\n"
   ]
  },
  {
   "cell_type": "code",
   "execution_count": null,
   "id": "e57f20c6",
   "metadata": {},
   "outputs": [],
   "source": [
    "# 4 23 47 48"
   ]
  },
  {
   "cell_type": "code",
   "execution_count": 600,
   "id": "3951f4fe",
   "metadata": {
    "scrolled": true
   },
   "outputs": [
    {
     "name": "stdout",
     "output_type": "stream",
     "text": [
      "69.524\n",
      "66.465\n",
      "변수 명 :  X_01\n",
      "IQR :  3.0589999999999975\n",
      "lower bound :  60.34700000000001\n",
      "upper bound :  75.642\n",
      "tmp[nm].value_counts() :  0    39140\n",
      "1      467\n",
      "Name: X_04, dtype: int64\n",
      "71.77\n",
      "65.07\n",
      "변수 명 :  X_03\n",
      "IQR :  6.700000000000003\n",
      "lower bound :  51.66999999999999\n",
      "upper bound :  85.17\n",
      "tmp[nm].value_counts() :  0    39124\n",
      "1      483\n",
      "Name: X_04, dtype: int64\n"
     ]
    },
    {
     "data": {
      "text/plain": [
       "0    39124\n",
       "1      483\n",
       "Name: X_04, dtype: int64"
      ]
     },
     "execution_count": 600,
     "metadata": {},
     "output_type": "execute_result"
    }
   ],
   "source": [
    "for i in valid_cols1:\n",
    "    train_x = outlier_iqr(train_x, i, 'X_04')\n",
    "\n",
    "train_x['X_04'].value_counts()"
   ]
  },
  {
   "cell_type": "code",
   "execution_count": 601,
   "id": "15a0788b",
   "metadata": {},
   "outputs": [
    {
     "name": "stdout",
     "output_type": "stream",
     "text": [
      "103.144\n",
      "101.949\n",
      "변수 명 :  X_05\n",
      "IQR :  1.1950000000000074\n",
      "lower bound :  99.55899999999998\n",
      "upper bound :  105.53400000000002\n",
      "tmp[nm].value_counts() :  0    39607\n",
      "Name: X_23, dtype: int64\n",
      "71.923\n",
      "68.864\n",
      "변수 명 :  X_06\n",
      "IQR :  3.0589999999999975\n",
      "lower bound :  62.74600000000001\n",
      "upper bound :  78.041\n",
      "tmp[nm].value_counts() :  0    39450\n",
      "1      157\n",
      "Name: X_23, dtype: int64\n",
      "29.87\n",
      "27.89\n",
      "변수 명 :  X_07\n",
      "IQR :  1.9800000000000004\n",
      "lower bound :  23.93\n",
      "upper bound :  33.83\n",
      "tmp[nm].value_counts() :  0    38581\n",
      "1     1026\n",
      "Name: X_23, dtype: int64\n",
      "263.96\n",
      "188.54\n",
      "변수 명 :  X_09\n",
      "IQR :  75.41999999999999\n",
      "lower bound :  37.70000000000002\n",
      "upper bound :  414.79999999999995\n",
      "tmp[nm].value_counts() :  0    37456\n",
      "1     2151\n",
      "Name: X_23, dtype: int64\n",
      "0.16\n",
      "0.13\n",
      "변수 명 :  X_13\n",
      "IQR :  0.03\n",
      "lower bound :  0.07\n",
      "upper bound :  0.22\n",
      "tmp[nm].value_counts() :  0    37165\n",
      "1     2442\n",
      "Name: X_23, dtype: int64\n",
      "13.39\n",
      "13.35\n",
      "변수 명 :  X_14\n",
      "IQR :  0.040000000000000924\n",
      "lower bound :  13.269999999999998\n",
      "upper bound :  13.470000000000002\n",
      "tmp[nm].value_counts() :  0    37143\n",
      "1     2464\n",
      "Name: X_23, dtype: int64\n",
      "13.41\n",
      "13.36\n",
      "변수 명 :  X_15\n",
      "IQR :  0.05000000000000071\n",
      "lower bound :  13.259999999999998\n",
      "upper bound :  13.510000000000002\n",
      "tmp[nm].value_counts() :  0    37143\n",
      "1     2464\n",
      "Name: X_23, dtype: int64\n",
      "13.49\n",
      "13.44\n",
      "변수 명 :  X_16\n",
      "IQR :  0.05000000000000071\n",
      "lower bound :  13.339999999999998\n",
      "upper bound :  13.590000000000002\n",
      "tmp[nm].value_counts() :  0    37137\n",
      "1     2470\n",
      "Name: X_23, dtype: int64\n",
      "13.53\n",
      "13.5\n",
      "변수 명 :  X_17\n",
      "IQR :  0.02999999999999936\n",
      "lower bound :  13.440000000000001\n",
      "upper bound :  13.589999999999998\n",
      "tmp[nm].value_counts() :  0    37003\n",
      "1     2604\n",
      "Name: X_23, dtype: int64\n",
      "13.47\n",
      "13.43\n",
      "변수 명 :  X_18\n",
      "IQR :  0.040000000000000924\n",
      "lower bound :  13.349999999999998\n",
      "upper bound :  13.550000000000002\n",
      "tmp[nm].value_counts() :  0    36996\n",
      "1     2611\n",
      "Name: X_23, dtype: int64\n",
      "3.31\n",
      "3.16\n",
      "변수 명 :  X_19\n",
      "IQR :  0.1499999999999999\n",
      "lower bound :  2.8600000000000003\n",
      "upper bound :  3.61\n",
      "tmp[nm].value_counts() :  0    36980\n",
      "1     2627\n",
      "Name: X_23, dtype: int64\n",
      "3.27\n",
      "3.1\n",
      "변수 명 :  X_20\n",
      "IQR :  0.16999999999999993\n",
      "lower bound :  2.7600000000000002\n",
      "upper bound :  3.61\n",
      "tmp[nm].value_counts() :  0    36980\n",
      "1     2627\n",
      "Name: X_23, dtype: int64\n",
      "3.25\n",
      "3.09\n",
      "변수 명 :  X_21\n",
      "IQR :  0.16000000000000014\n",
      "lower bound :  2.7699999999999996\n",
      "upper bound :  3.5700000000000003\n",
      "tmp[nm].value_counts() :  0    36978\n",
      "1     2629\n",
      "Name: X_23, dtype: int64\n",
      "3.32\n",
      "3.14\n",
      "변수 명 :  X_22\n",
      "IQR :  0.17999999999999972\n",
      "lower bound :  2.7800000000000007\n",
      "upper bound :  3.6799999999999993\n",
      "tmp[nm].value_counts() :  0    36978\n",
      "1     2629\n",
      "Name: X_23, dtype: int64\n"
     ]
    },
    {
     "data": {
      "text/plain": [
       "0    36978\n",
       "1     2629\n",
       "Name: X_23, dtype: int64"
      ]
     },
     "execution_count": 601,
     "metadata": {},
     "output_type": "execute_result"
    }
   ],
   "source": [
    "for i in valid_cols2:\n",
    "    train_x = outlier_iqr(train_x, i, 'X_23')\n",
    "\n",
    "train_x['X_23'].value_counts()"
   ]
  },
  {
   "cell_type": "code",
   "execution_count": 602,
   "id": "5b9def90",
   "metadata": {
    "scrolled": true
   },
   "outputs": [
    {
     "name": "stdout",
     "output_type": "stream",
     "text": [
      "2.14\n",
      "2.09\n",
      "변수 명 :  X_24\n",
      "IQR :  0.050000000000000266\n",
      "lower bound :  1.9899999999999993\n",
      "upper bound :  2.2400000000000007\n",
      "tmp[nm].value_counts() :  0    39572\n",
      "1       35\n",
      "Name: X_47, dtype: int64\n",
      "2.12\n",
      "2.07\n",
      "변수 명 :  X_25\n",
      "IQR :  0.050000000000000266\n",
      "lower bound :  1.9699999999999993\n",
      "upper bound :  2.2200000000000006\n",
      "tmp[nm].value_counts() :  0    39503\n",
      "1      104\n",
      "Name: X_47, dtype: int64\n",
      "2.12\n",
      "2.06\n",
      "변수 명 :  X_26\n",
      "IQR :  0.06000000000000005\n",
      "lower bound :  1.94\n",
      "upper bound :  2.24\n",
      "tmp[nm].value_counts() :  0    39332\n",
      "1      275\n",
      "Name: X_47, dtype: int64\n",
      "2.12\n",
      "2.07\n",
      "변수 명 :  X_27\n",
      "IQR :  0.050000000000000266\n",
      "lower bound :  1.9699999999999993\n",
      "upper bound :  2.2200000000000006\n",
      "tmp[nm].value_counts() :  0    39041\n",
      "1      566\n",
      "Name: X_47, dtype: int64\n",
      "2.14\n",
      "2.09\n",
      "변수 명 :  X_28\n",
      "IQR :  0.050000000000000266\n",
      "lower bound :  1.9899999999999993\n",
      "upper bound :  2.2400000000000007\n",
      "tmp[nm].value_counts() :  0    38469\n",
      "1     1138\n",
      "Name: X_47, dtype: int64\n",
      "2.2\n",
      "2.14\n",
      "변수 명 :  X_29\n",
      "IQR :  0.06000000000000005\n",
      "lower bound :  2.02\n",
      "upper bound :  2.3200000000000003\n",
      "tmp[nm].value_counts() :  0    38062\n",
      "1     1545\n",
      "Name: X_47, dtype: int64\n",
      "12.99\n",
      "12.92\n",
      "변수 명 :  X_34\n",
      "IQR :  0.07000000000000028\n",
      "lower bound :  12.78\n",
      "upper bound :  13.13\n",
      "tmp[nm].value_counts() :  0    38062\n",
      "1     1545\n",
      "Name: X_47, dtype: int64\n",
      "12.97\n",
      "12.87\n",
      "변수 명 :  X_35\n",
      "IQR :  0.10000000000000142\n",
      "lower bound :  12.669999999999996\n",
      "upper bound :  13.170000000000003\n",
      "tmp[nm].value_counts() :  0    38062\n",
      "1     1545\n",
      "Name: X_47, dtype: int64\n",
      "12.98\n",
      "12.9\n",
      "변수 명 :  X_36\n",
      "IQR :  0.08000000000000007\n",
      "lower bound :  12.74\n",
      "upper bound :  13.14\n",
      "tmp[nm].value_counts() :  0    38062\n",
      "1     1545\n",
      "Name: X_47, dtype: int64\n",
      "12.97\n",
      "12.87\n",
      "변수 명 :  X_37\n",
      "IQR :  0.10000000000000142\n",
      "lower bound :  12.669999999999996\n",
      "upper bound :  13.170000000000003\n",
      "tmp[nm].value_counts() :  0    38062\n",
      "1     1545\n",
      "Name: X_47, dtype: int64\n"
     ]
    },
    {
     "data": {
      "text/plain": [
       "0    38062\n",
       "1     1545\n",
       "Name: X_47, dtype: int64"
      ]
     },
     "execution_count": 602,
     "metadata": {},
     "output_type": "execute_result"
    }
   ],
   "source": [
    "for i in valid_cols3:\n",
    "    train_x = outlier_iqr(train_x, i, 'X_47')\n",
    "\n",
    "train_x['X_47'].value_counts()"
   ]
  },
  {
   "cell_type": "code",
   "execution_count": 603,
   "id": "b3e69652",
   "metadata": {
    "scrolled": true
   },
   "outputs": [
    {
     "name": "stdout",
     "output_type": "stream",
     "text": [
      "-15.75\n",
      "-16.16\n",
      "변수 명 :  X_38\n",
      "IQR :  0.41000000000000014\n",
      "lower bound :  -16.98\n",
      "upper bound :  -14.93\n",
      "tmp[nm].value_counts() :  0    38829\n",
      "1      778\n",
      "Name: X_48, dtype: int64\n",
      "-15.75\n",
      "-16.16\n",
      "변수 명 :  X_39\n",
      "IQR :  0.41000000000000014\n",
      "lower bound :  -16.98\n",
      "upper bound :  -14.93\n",
      "tmp[nm].value_counts() :  0    38719\n",
      "1      888\n",
      "Name: X_48, dtype: int64\n",
      "-16.4\n",
      "-16.81\n",
      "변수 명 :  X_40\n",
      "IQR :  0.41000000000000014\n",
      "lower bound :  -17.63\n",
      "upper bound :  -15.579999999999998\n",
      "tmp[nm].value_counts() :  0    38690\n",
      "1      917\n",
      "Name: X_48, dtype: int64\n",
      "21.21\n",
      "21.17\n",
      "변수 명 :  X_41\n",
      "IQR :  0.03999999999999915\n",
      "lower bound :  21.090000000000003\n",
      "upper bound :  21.29\n",
      "tmp[nm].value_counts() :  0    38527\n",
      "1     1080\n",
      "Name: X_48, dtype: int64\n",
      "21.09\n",
      "21.03\n",
      "변수 명 :  X_42\n",
      "IQR :  0.05999999999999872\n",
      "lower bound :  20.910000000000004\n",
      "upper bound :  21.209999999999997\n",
      "tmp[nm].value_counts() :  0    38503\n",
      "1     1104\n",
      "Name: X_48, dtype: int64\n",
      "21.24\n",
      "21.17\n",
      "변수 명 :  X_43\n",
      "IQR :  0.06999999999999673\n",
      "lower bound :  21.03000000000001\n",
      "upper bound :  21.379999999999992\n",
      "tmp[nm].value_counts() :  0    38477\n",
      "1     1130\n",
      "Name: X_48, dtype: int64\n",
      "21.19\n",
      "21.13\n",
      "변수 명 :  X_44\n",
      "IQR :  0.060000000000002274\n",
      "lower bound :  21.009999999999994\n",
      "upper bound :  21.310000000000006\n",
      "tmp[nm].value_counts() :  0    38454\n",
      "1     1153\n",
      "Name: X_48, dtype: int64\n",
      "0.19\n",
      "0.12\n",
      "변수 명 :  X_45\n",
      "IQR :  0.07\n",
      "lower bound :  -0.020000000000000018\n",
      "upper bound :  0.33\n",
      "tmp[nm].value_counts() :  0    38452\n",
      "1     1155\n",
      "Name: X_48, dtype: int64\n"
     ]
    },
    {
     "data": {
      "text/plain": [
       "0    38452\n",
       "1     1155\n",
       "Name: X_48, dtype: int64"
      ]
     },
     "execution_count": 603,
     "metadata": {},
     "output_type": "execute_result"
    }
   ],
   "source": [
    "for i in valid_cols4:\n",
    "    train_x = outlier_iqr(train_x, i, 'X_48')\n",
    "\n",
    "train_x['X_48'].value_counts()"
   ]
  },
  {
   "cell_type": "code",
   "execution_count": 706,
   "id": "ec2b1127",
   "metadata": {
    "scrolled": true
   },
   "outputs": [
    {
     "name": "stdout",
     "output_type": "stream",
     "text": [
      "134.5389985\n",
      "126.948571\n",
      "변수 명 :  X_50\n",
      "IQR :  7.59042749999999\n",
      "lower bound :  111.76771600000002\n",
      "upper bound :  149.71985349999997\n",
      "tmp[nm].value_counts() :  0    39458\n",
      "1      149\n",
      "Name: X_57, dtype: int64\n",
      "135.170761\n",
      "127.669758\n",
      "변수 명 :  X_51\n",
      "IQR :  7.501002999999997\n",
      "lower bound :  112.66775200000001\n",
      "upper bound :  150.172767\n",
      "tmp[nm].value_counts() :  0    39369\n",
      "1      238\n",
      "Name: X_57, dtype: int64\n",
      "142.7024475\n",
      "134.4754005\n",
      "변수 명 :  X_52\n",
      "IQR :  8.227046999999999\n",
      "lower bound :  118.02130650000001\n",
      "upper bound :  159.1565415\n",
      "tmp[nm].value_counts() :  0    39303\n",
      "1      304\n",
      "Name: X_57, dtype: int64\n",
      "131.618662\n",
      "124.374525\n",
      "변수 명 :  X_53\n",
      "IQR :  7.244136999999995\n",
      "lower bound :  109.88625100000002\n",
      "upper bound :  146.106936\n",
      "tmp[nm].value_counts() :  0    39261\n",
      "1      346\n",
      "Name: X_57, dtype: int64\n",
      "131.487423\n",
      "124.6978795\n",
      "변수 명 :  X_54\n",
      "IQR :  6.789543500000008\n",
      "lower bound :  111.11879249999998\n",
      "upper bound :  145.06651000000002\n",
      "tmp[nm].value_counts() :  0    39200\n",
      "1      407\n",
      "Name: X_57, dtype: int64\n",
      "142.0731015\n",
      "133.744103\n",
      "변수 명 :  X_55\n",
      "IQR :  8.328998500000012\n",
      "lower bound :  117.08610599999997\n",
      "upper bound :  158.73109850000003\n",
      "tmp[nm].value_counts() :  0    39168\n",
      "1      439\n",
      "Name: X_57, dtype: int64\n",
      "131.839764\n",
      "125.1347125\n",
      "변수 명 :  X_56\n",
      "IQR :  6.705051499999996\n",
      "lower bound :  111.72460950000001\n",
      "upper bound :  145.249867\n",
      "tmp[nm].value_counts() :  0    39119\n",
      "1      488\n",
      "Name: X_57, dtype: int64\n"
     ]
    },
    {
     "data": {
      "text/plain": [
       "0    39119\n",
       "1      488\n",
       "Name: X_57, dtype: int64"
      ]
     },
     "execution_count": 706,
     "metadata": {},
     "output_type": "execute_result"
    }
   ],
   "source": [
    "for i in valid_cols5:\n",
    "    train_x = outlier_iqr(train_x, i, 'X_57')\n",
    "\n",
    "train_x['X_57'].value_counts()"
   ]
  },
  {
   "cell_type": "code",
   "execution_count": 605,
   "id": "b8a8a397",
   "metadata": {},
   "outputs": [],
   "source": [
    "def outlier_57(train_x):\n",
    "    train_x['X_57'] = np.where(train_x['X_04']==0, 0, \n",
    "    np.where(train_x['X_23']==0, 0, \n",
    "    np.where(train_x['X_47']==0, 0, \n",
    "    np.where(train_x['X_48']==0,0,1))))\n",
    "    return train_x\n",
    "    \n"
   ]
  },
  {
   "cell_type": "code",
   "execution_count": 606,
   "id": "7a729465",
   "metadata": {},
   "outputs": [],
   "source": [
    "train_x = outlier_57(train_x)"
   ]
  },
  {
   "cell_type": "code",
   "execution_count": 607,
   "id": "9a62c668",
   "metadata": {},
   "outputs": [
    {
     "data": {
      "text/plain": [
       "0    39606\n",
       "1        1\n",
       "Name: X_57, dtype: int64"
      ]
     },
     "execution_count": 607,
     "metadata": {},
     "output_type": "execute_result"
    }
   ],
   "source": [
    "train_x['X_57'].value_counts()"
   ]
  },
  {
   "cell_type": "code",
   "execution_count": 752,
   "id": "98d7acc3",
   "metadata": {
    "id": "98d7acc3",
    "outputId": "449d7cbc-5dba-4e19-87d8-6a3ce090067c",
    "scrolled": true
   },
   "outputs": [
    {
     "name": "stdout",
     "output_type": "stream",
     "text": [
      "21.21\n",
      "21.17\n",
      "변수 명 :  X_41\n",
      "IQR :  0.03999999999999915\n",
      "lower bound :  21.110000000000003\n",
      "upper bound :  21.27\n",
      "tmp[nm].value_counts() :  0    38918\n",
      "1      689\n",
      "Name: X_57, dtype: int64\n",
      "21.09\n",
      "21.03\n",
      "변수 명 :  X_42\n",
      "IQR :  0.05999999999999872\n",
      "lower bound :  20.940000000000005\n",
      "upper bound :  21.18\n",
      "tmp[nm].value_counts() :  0    38748\n",
      "1      859\n",
      "Name: X_57, dtype: int64\n",
      "21.24\n",
      "21.17\n",
      "변수 명 :  X_43\n",
      "IQR :  0.06999999999999673\n",
      "lower bound :  21.065000000000005\n",
      "upper bound :  21.34499999999999\n",
      "tmp[nm].value_counts() :  0    38629\n",
      "1      978\n",
      "Name: X_57, dtype: int64\n",
      "21.19\n",
      "21.13\n",
      "변수 명 :  X_44\n",
      "IQR :  0.060000000000002274\n",
      "lower bound :  21.039999999999996\n",
      "upper bound :  21.280000000000005\n",
      "tmp[nm].value_counts() :  0    38477\n",
      "1     1130\n",
      "Name: X_57, dtype: int64\n",
      "0.19\n",
      "0.12\n",
      "변수 명 :  X_45\n",
      "IQR :  0.07\n",
      "lower bound :  0.014999999999999986\n",
      "upper bound :  0.29500000000000004\n",
      "tmp[nm].value_counts() :  0    38449\n",
      "1     1158\n",
      "Name: X_57, dtype: int64\n"
     ]
    },
    {
     "data": {
      "text/plain": [
       "0    38449\n",
       "1     1158\n",
       "Name: X_57, dtype: int64"
      ]
     },
     "execution_count": 752,
     "metadata": {},
     "output_type": "execute_result"
    }
   ],
   "source": [
    "for i in cols:\n",
    "    train_x = outlier_iqr(train_x, i, 'X_57')\n",
    "\n",
    "train_x['X_57'].value_counts()"
   ]
  },
  {
   "cell_type": "code",
   "execution_count": null,
   "id": "03b82a37",
   "metadata": {},
   "outputs": [],
   "source": []
  },
  {
   "cell_type": "markdown",
   "id": "361f60bb",
   "metadata": {
    "id": "361f60bb"
   },
   "source": [
    "### Feature Selection\n"
   ]
  },
  {
   "cell_type": "code",
   "execution_count": 789,
   "id": "2f051dd6",
   "metadata": {
    "id": "2f051dd6",
    "scrolled": true
   },
   "outputs": [
    {
     "name": "stdout",
     "output_type": "stream",
     "text": [
      "['X_15']\n"
     ]
    },
    {
     "ename": "KeyError",
     "evalue": "\"['ID'] not found in axis\"",
     "output_type": "error",
     "traceback": [
      "\u001b[1;31m---------------------------------------------------------------------------\u001b[0m",
      "\u001b[1;31mKeyError\u001b[0m                                  Traceback (most recent call last)",
      "Input \u001b[1;32mIn [789]\u001b[0m, in \u001b[0;36m<cell line: 12>\u001b[1;34m()\u001b[0m\n\u001b[0;32m      9\u001b[0m train_x \u001b[38;5;241m=\u001b[39m train_x\u001b[38;5;241m.\u001b[39mdrop(highly_correlated, axis \u001b[38;5;241m=\u001b[39m \u001b[38;5;241m1\u001b[39m)\n\u001b[0;32m     11\u001b[0m test_x \u001b[38;5;241m=\u001b[39m test_x\u001b[38;5;241m.\u001b[39mdrop(highly_correlated, axis \u001b[38;5;241m=\u001b[39m \u001b[38;5;241m1\u001b[39m)\n\u001b[1;32m---> 12\u001b[0m test_x \u001b[38;5;241m=\u001b[39m \u001b[43mtest_x\u001b[49m\u001b[38;5;241;43m.\u001b[39;49m\u001b[43mdrop\u001b[49m\u001b[43m(\u001b[49m\u001b[38;5;124;43m'\u001b[39;49m\u001b[38;5;124;43mID\u001b[39;49m\u001b[38;5;124;43m'\u001b[39;49m\u001b[43m,\u001b[49m\u001b[43m \u001b[49m\u001b[43maxis\u001b[49m\u001b[38;5;241;43m=\u001b[39;49m\u001b[38;5;241;43m1\u001b[39;49m\u001b[43m)\u001b[49m\n",
      "File \u001b[1;32mD:\\ai\\envs\\dacon\\lib\\site-packages\\pandas\\util\\_decorators.py:311\u001b[0m, in \u001b[0;36mdeprecate_nonkeyword_arguments.<locals>.decorate.<locals>.wrapper\u001b[1;34m(*args, **kwargs)\u001b[0m\n\u001b[0;32m    305\u001b[0m \u001b[38;5;28;01mif\u001b[39;00m \u001b[38;5;28mlen\u001b[39m(args) \u001b[38;5;241m>\u001b[39m num_allow_args:\n\u001b[0;32m    306\u001b[0m     warnings\u001b[38;5;241m.\u001b[39mwarn(\n\u001b[0;32m    307\u001b[0m         msg\u001b[38;5;241m.\u001b[39mformat(arguments\u001b[38;5;241m=\u001b[39marguments),\n\u001b[0;32m    308\u001b[0m         \u001b[38;5;167;01mFutureWarning\u001b[39;00m,\n\u001b[0;32m    309\u001b[0m         stacklevel\u001b[38;5;241m=\u001b[39mstacklevel,\n\u001b[0;32m    310\u001b[0m     )\n\u001b[1;32m--> 311\u001b[0m \u001b[38;5;28;01mreturn\u001b[39;00m func(\u001b[38;5;241m*\u001b[39margs, \u001b[38;5;241m*\u001b[39m\u001b[38;5;241m*\u001b[39mkwargs)\n",
      "File \u001b[1;32mD:\\ai\\envs\\dacon\\lib\\site-packages\\pandas\\core\\frame.py:4954\u001b[0m, in \u001b[0;36mDataFrame.drop\u001b[1;34m(self, labels, axis, index, columns, level, inplace, errors)\u001b[0m\n\u001b[0;32m   4806\u001b[0m \u001b[38;5;129m@deprecate_nonkeyword_arguments\u001b[39m(version\u001b[38;5;241m=\u001b[39m\u001b[38;5;28;01mNone\u001b[39;00m, allowed_args\u001b[38;5;241m=\u001b[39m[\u001b[38;5;124m\"\u001b[39m\u001b[38;5;124mself\u001b[39m\u001b[38;5;124m\"\u001b[39m, \u001b[38;5;124m\"\u001b[39m\u001b[38;5;124mlabels\u001b[39m\u001b[38;5;124m\"\u001b[39m])\n\u001b[0;32m   4807\u001b[0m \u001b[38;5;28;01mdef\u001b[39;00m \u001b[38;5;21mdrop\u001b[39m(\n\u001b[0;32m   4808\u001b[0m     \u001b[38;5;28mself\u001b[39m,\n\u001b[1;32m   (...)\u001b[0m\n\u001b[0;32m   4815\u001b[0m     errors: \u001b[38;5;28mstr\u001b[39m \u001b[38;5;241m=\u001b[39m \u001b[38;5;124m\"\u001b[39m\u001b[38;5;124mraise\u001b[39m\u001b[38;5;124m\"\u001b[39m,\n\u001b[0;32m   4816\u001b[0m ):\n\u001b[0;32m   4817\u001b[0m     \u001b[38;5;124;03m\"\"\"\u001b[39;00m\n\u001b[0;32m   4818\u001b[0m \u001b[38;5;124;03m    Drop specified labels from rows or columns.\u001b[39;00m\n\u001b[0;32m   4819\u001b[0m \n\u001b[1;32m   (...)\u001b[0m\n\u001b[0;32m   4952\u001b[0m \u001b[38;5;124;03m            weight  1.0     0.8\u001b[39;00m\n\u001b[0;32m   4953\u001b[0m \u001b[38;5;124;03m    \"\"\"\u001b[39;00m\n\u001b[1;32m-> 4954\u001b[0m     \u001b[38;5;28;01mreturn\u001b[39;00m \u001b[38;5;28;43msuper\u001b[39;49m\u001b[43m(\u001b[49m\u001b[43m)\u001b[49m\u001b[38;5;241;43m.\u001b[39;49m\u001b[43mdrop\u001b[49m\u001b[43m(\u001b[49m\n\u001b[0;32m   4955\u001b[0m \u001b[43m        \u001b[49m\u001b[43mlabels\u001b[49m\u001b[38;5;241;43m=\u001b[39;49m\u001b[43mlabels\u001b[49m\u001b[43m,\u001b[49m\n\u001b[0;32m   4956\u001b[0m \u001b[43m        \u001b[49m\u001b[43maxis\u001b[49m\u001b[38;5;241;43m=\u001b[39;49m\u001b[43maxis\u001b[49m\u001b[43m,\u001b[49m\n\u001b[0;32m   4957\u001b[0m \u001b[43m        \u001b[49m\u001b[43mindex\u001b[49m\u001b[38;5;241;43m=\u001b[39;49m\u001b[43mindex\u001b[49m\u001b[43m,\u001b[49m\n\u001b[0;32m   4958\u001b[0m \u001b[43m        \u001b[49m\u001b[43mcolumns\u001b[49m\u001b[38;5;241;43m=\u001b[39;49m\u001b[43mcolumns\u001b[49m\u001b[43m,\u001b[49m\n\u001b[0;32m   4959\u001b[0m \u001b[43m        \u001b[49m\u001b[43mlevel\u001b[49m\u001b[38;5;241;43m=\u001b[39;49m\u001b[43mlevel\u001b[49m\u001b[43m,\u001b[49m\n\u001b[0;32m   4960\u001b[0m \u001b[43m        \u001b[49m\u001b[43minplace\u001b[49m\u001b[38;5;241;43m=\u001b[39;49m\u001b[43minplace\u001b[49m\u001b[43m,\u001b[49m\n\u001b[0;32m   4961\u001b[0m \u001b[43m        \u001b[49m\u001b[43merrors\u001b[49m\u001b[38;5;241;43m=\u001b[39;49m\u001b[43merrors\u001b[49m\u001b[43m,\u001b[49m\n\u001b[0;32m   4962\u001b[0m \u001b[43m    \u001b[49m\u001b[43m)\u001b[49m\n",
      "File \u001b[1;32mD:\\ai\\envs\\dacon\\lib\\site-packages\\pandas\\core\\generic.py:4267\u001b[0m, in \u001b[0;36mNDFrame.drop\u001b[1;34m(self, labels, axis, index, columns, level, inplace, errors)\u001b[0m\n\u001b[0;32m   4265\u001b[0m \u001b[38;5;28;01mfor\u001b[39;00m axis, labels \u001b[38;5;129;01min\u001b[39;00m axes\u001b[38;5;241m.\u001b[39mitems():\n\u001b[0;32m   4266\u001b[0m     \u001b[38;5;28;01mif\u001b[39;00m labels \u001b[38;5;129;01mis\u001b[39;00m \u001b[38;5;129;01mnot\u001b[39;00m \u001b[38;5;28;01mNone\u001b[39;00m:\n\u001b[1;32m-> 4267\u001b[0m         obj \u001b[38;5;241m=\u001b[39m \u001b[43mobj\u001b[49m\u001b[38;5;241;43m.\u001b[39;49m\u001b[43m_drop_axis\u001b[49m\u001b[43m(\u001b[49m\u001b[43mlabels\u001b[49m\u001b[43m,\u001b[49m\u001b[43m \u001b[49m\u001b[43maxis\u001b[49m\u001b[43m,\u001b[49m\u001b[43m \u001b[49m\u001b[43mlevel\u001b[49m\u001b[38;5;241;43m=\u001b[39;49m\u001b[43mlevel\u001b[49m\u001b[43m,\u001b[49m\u001b[43m \u001b[49m\u001b[43merrors\u001b[49m\u001b[38;5;241;43m=\u001b[39;49m\u001b[43merrors\u001b[49m\u001b[43m)\u001b[49m\n\u001b[0;32m   4269\u001b[0m \u001b[38;5;28;01mif\u001b[39;00m inplace:\n\u001b[0;32m   4270\u001b[0m     \u001b[38;5;28mself\u001b[39m\u001b[38;5;241m.\u001b[39m_update_inplace(obj)\n",
      "File \u001b[1;32mD:\\ai\\envs\\dacon\\lib\\site-packages\\pandas\\core\\generic.py:4311\u001b[0m, in \u001b[0;36mNDFrame._drop_axis\u001b[1;34m(self, labels, axis, level, errors, consolidate, only_slice)\u001b[0m\n\u001b[0;32m   4309\u001b[0m         new_axis \u001b[38;5;241m=\u001b[39m axis\u001b[38;5;241m.\u001b[39mdrop(labels, level\u001b[38;5;241m=\u001b[39mlevel, errors\u001b[38;5;241m=\u001b[39merrors)\n\u001b[0;32m   4310\u001b[0m     \u001b[38;5;28;01melse\u001b[39;00m:\n\u001b[1;32m-> 4311\u001b[0m         new_axis \u001b[38;5;241m=\u001b[39m \u001b[43maxis\u001b[49m\u001b[38;5;241;43m.\u001b[39;49m\u001b[43mdrop\u001b[49m\u001b[43m(\u001b[49m\u001b[43mlabels\u001b[49m\u001b[43m,\u001b[49m\u001b[43m \u001b[49m\u001b[43merrors\u001b[49m\u001b[38;5;241;43m=\u001b[39;49m\u001b[43merrors\u001b[49m\u001b[43m)\u001b[49m\n\u001b[0;32m   4312\u001b[0m     indexer \u001b[38;5;241m=\u001b[39m axis\u001b[38;5;241m.\u001b[39mget_indexer(new_axis)\n\u001b[0;32m   4314\u001b[0m \u001b[38;5;66;03m# Case for non-unique axis\u001b[39;00m\n\u001b[0;32m   4315\u001b[0m \u001b[38;5;28;01melse\u001b[39;00m:\n",
      "File \u001b[1;32mD:\\ai\\envs\\dacon\\lib\\site-packages\\pandas\\core\\indexes\\base.py:6644\u001b[0m, in \u001b[0;36mIndex.drop\u001b[1;34m(self, labels, errors)\u001b[0m\n\u001b[0;32m   6642\u001b[0m \u001b[38;5;28;01mif\u001b[39;00m mask\u001b[38;5;241m.\u001b[39many():\n\u001b[0;32m   6643\u001b[0m     \u001b[38;5;28;01mif\u001b[39;00m errors \u001b[38;5;241m!=\u001b[39m \u001b[38;5;124m\"\u001b[39m\u001b[38;5;124mignore\u001b[39m\u001b[38;5;124m\"\u001b[39m:\n\u001b[1;32m-> 6644\u001b[0m         \u001b[38;5;28;01mraise\u001b[39;00m \u001b[38;5;167;01mKeyError\u001b[39;00m(\u001b[38;5;124mf\u001b[39m\u001b[38;5;124m\"\u001b[39m\u001b[38;5;132;01m{\u001b[39;00m\u001b[38;5;28mlist\u001b[39m(labels[mask])\u001b[38;5;132;01m}\u001b[39;00m\u001b[38;5;124m not found in axis\u001b[39m\u001b[38;5;124m\"\u001b[39m)\n\u001b[0;32m   6645\u001b[0m     indexer \u001b[38;5;241m=\u001b[39m indexer[\u001b[38;5;241m~\u001b[39mmask]\n\u001b[0;32m   6646\u001b[0m \u001b[38;5;28;01mreturn\u001b[39;00m \u001b[38;5;28mself\u001b[39m\u001b[38;5;241m.\u001b[39mdelete(indexer)\n",
      "\u001b[1;31mKeyError\u001b[0m: \"['ID'] not found in axis\""
     ]
    }
   ],
   "source": [
    "cols_with_zero_variance = zero_variance(train_x)\n",
    "\n",
    "train_x = train_x.drop(cols_with_zero_variance, axis = 1)\n",
    "\n",
    "test_x = test_x.drop(cols_with_zero_variance, axis = 1)\n",
    "\n",
    "highly_correlated = [i[1] for i in get_top_correlation(train_x, 1).index]\n",
    "print(highly_correlated)\n",
    "train_x = train_x.drop(highly_correlated, axis = 1)\n",
    "\n",
    "test_x = test_x.drop(highly_correlated, axis = 1)\n",
    "test_x = test_x.drop('ID', axis=1)"
   ]
  },
  {
   "cell_type": "code",
   "execution_count": null,
   "id": "baab3f54",
   "metadata": {
    "id": "baab3f54"
   },
   "outputs": [],
   "source": [
    "# 그룹에 대한 feature selection\n",
    "train_x.shape"
   ]
  },
  {
   "cell_type": "code",
   "execution_count": 790,
   "id": "0d83a0dc",
   "metadata": {},
   "outputs": [
    {
     "data": {
      "text/plain": [
       "(39608, 48)"
      ]
     },
     "execution_count": 790,
     "metadata": {},
     "output_type": "execute_result"
    }
   ],
   "source": [
    "test_x.shape"
   ]
  },
  {
   "cell_type": "markdown",
   "id": "2826d2fa",
   "metadata": {
    "id": "2826d2fa"
   },
   "source": [
    "### Train\n",
    "Train dataset is again splitted into train and validation set"
   ]
  },
  {
   "cell_type": "code",
   "execution_count": 791,
   "id": "986f2b6b",
   "metadata": {
    "id": "986f2b6b"
   },
   "outputs": [],
   "source": [
    "def evaluate(params, x_train, y_train, x_test, y_test):\n",
    "    model = MultiOutputRegressor(LGBMRegressor(objective='regression', n_jobs=-1, **params))\n",
    "    model.fit(x_train, y_train)\n",
    "    pred = model.predict(x_test)\n",
    "    nrmse = lg_nrmse(y_test, pred)\n",
    "    return nrmse"
   ]
  },
  {
   "cell_type": "code",
   "execution_count": 792,
   "id": "ae3fa779",
   "metadata": {
    "id": "ae3fa779"
   },
   "outputs": [],
   "source": [
    "train_X, validation_X, train_Y, validation_Y = train_test_split(train_x, train_y, test_size = 0.2)\n"
   ]
  },
  {
   "cell_type": "code",
   "execution_count": 793,
   "id": "8f839d99",
   "metadata": {
    "id": "8f839d99"
   },
   "outputs": [],
   "source": [
    "lgb_params_space = {\n",
    "    'max_depth':        hp.choice('max_depth',        np.arange(3, 16, 1, dtype=int)),\n",
    "    'min_child_weight': hp.choice('min_child_weight', np.arange(1, 9, 1, dtype=int)),\n",
    "    'colsample_bytree': hp.choice('colsample_bytree', np.arange(0.2, 0.9, 0.1)),\n",
    "    'subsample':        hp.uniform('subsample', 0.8, 1),\n",
    "    'feature_fraction': hp.uniform('feature_fraction', 0.5, 1),\n",
    "    'n_estimators':     100,\n",
    "    'num_leaves':       50,\n",
    "    'bagging_fraction': hp.uniform(\"bagging_fraction\", 0, 1.0),\n",
    "}"
   ]
  },
  {
   "cell_type": "code",
   "execution_count": 794,
   "id": "26faad41",
   "metadata": {
    "id": "26faad41",
    "outputId": "6876a944-fe06-437b-d0e3-b29a44e8d6a8"
   },
   "outputs": [
    {
     "name": "stdout",
     "output_type": "stream",
     "text": [
      "[LightGBM] [Warning] feature_fraction is set=0.7868153857313266, colsample_bytree=0.7000000000000002 will be ignored. Current value: feature_fraction=0.7868153857313266\n",
      "[LightGBM] [Warning] bagging_fraction is set=0.9263003706131228, subsample=0.8488990011155588 will be ignored. Current value: bagging_fraction=0.9263003706131228\n",
      "[LightGBM] [Warning] feature_fraction is set=0.8843661819727017, colsample_bytree=0.4000000000000001 will be ignored. Current value: feature_fraction=0.8843661819727017\n",
      "[LightGBM] [Warning] bagging_fraction is set=0.8825625266433623, subsample=0.95962343410775 will be ignored. Current value: bagging_fraction=0.8825625266433623\n",
      "[LightGBM] [Warning] feature_fraction is set=0.8509352043504641, colsample_bytree=0.2 will be ignored. Current value: feature_fraction=0.8509352043504641\n",
      "[LightGBM] [Warning] bagging_fraction is set=0.8868555052422203, subsample=0.9722764989814893 will be ignored. Current value: bagging_fraction=0.8868555052422203\n",
      "[LightGBM] [Warning] feature_fraction is set=0.7798213641529346, colsample_bytree=0.2 will be ignored. Current value: feature_fraction=0.7798213641529346\n",
      "[LightGBM] [Warning] bagging_fraction is set=0.6261744958949919, subsample=0.9534568635637859 will be ignored. Current value: bagging_fraction=0.6261744958949919\n",
      "[LightGBM] [Warning] feature_fraction is set=0.908440661648692, colsample_bytree=0.7000000000000002 will be ignored. Current value: feature_fraction=0.908440661648692\n",
      "[LightGBM] [Warning] bagging_fraction is set=0.11542568134671016, subsample=0.9823467722704365 will be ignored. Current value: bagging_fraction=0.11542568134671016\n",
      "[LightGBM] [Warning] feature_fraction is set=0.6595774448266551, colsample_bytree=0.2 will be ignored. Current value: feature_fraction=0.6595774448266551\n",
      "[LightGBM] [Warning] bagging_fraction is set=0.4587870943637249, subsample=0.8167752300676678 will be ignored. Current value: bagging_fraction=0.4587870943637249\n",
      "[LightGBM] [Warning] feature_fraction is set=0.929040110805561, colsample_bytree=0.5000000000000001 will be ignored. Current value: feature_fraction=0.929040110805561\n",
      "[LightGBM] [Warning] bagging_fraction is set=0.8142559273393642, subsample=0.8202828723883363 will be ignored. Current value: bagging_fraction=0.8142559273393642\n",
      "[LightGBM] [Warning] feature_fraction is set=0.934722402645219, colsample_bytree=0.2 will be ignored. Current value: feature_fraction=0.934722402645219\n",
      "[LightGBM] [Warning] bagging_fraction is set=0.7432401209548696, subsample=0.9908030129233466 will be ignored. Current value: bagging_fraction=0.7432401209548696\n",
      "[LightGBM] [Warning] feature_fraction is set=0.7828133797084913, colsample_bytree=0.7000000000000002 will be ignored. Current value: feature_fraction=0.7828133797084913\n",
      "[LightGBM] [Warning] bagging_fraction is set=0.03500831212987576, subsample=0.948973021044782 will be ignored. Current value: bagging_fraction=0.03500831212987576\n",
      "[LightGBM] [Warning] feature_fraction is set=0.966570285636847, colsample_bytree=0.5000000000000001 will be ignored. Current value: feature_fraction=0.966570285636847\n",
      "[LightGBM] [Warning] bagging_fraction is set=0.9969482772708592, subsample=0.8954274003949971 will be ignored. Current value: bagging_fraction=0.9969482772708592\n",
      "[LightGBM] [Warning] feature_fraction is set=0.8761773240289756, colsample_bytree=0.4000000000000001 will be ignored. Current value: feature_fraction=0.8761773240289756\n",
      "[LightGBM] [Warning] bagging_fraction is set=0.8455160009896644, subsample=0.9101410966180797 will be ignored. Current value: bagging_fraction=0.8455160009896644\n",
      "[LightGBM] [Warning] feature_fraction is set=0.6982584270022589, colsample_bytree=0.5000000000000001 will be ignored. Current value: feature_fraction=0.6982584270022589\n",
      "[LightGBM] [Warning] bagging_fraction is set=0.4073184123958046, subsample=0.8526379830016925 will be ignored. Current value: bagging_fraction=0.4073184123958046\n",
      "[LightGBM] [Warning] feature_fraction is set=0.8604613555967511, colsample_bytree=0.4000000000000001 will be ignored. Current value: feature_fraction=0.8604613555967511\n",
      "[LightGBM] [Warning] bagging_fraction is set=0.8489969845060108, subsample=0.9106717900372333 will be ignored. Current value: bagging_fraction=0.8489969845060108\n",
      "[LightGBM] [Warning] feature_fraction is set=0.8381762228640246, colsample_bytree=0.4000000000000001 will be ignored. Current value: feature_fraction=0.8381762228640246\n",
      "[LightGBM] [Warning] bagging_fraction is set=0.9434692969419846, subsample=0.8946614925312464 will be ignored. Current value: bagging_fraction=0.9434692969419846\n",
      "[LightGBM] [Warning] feature_fraction is set=0.8540143340838607, colsample_bytree=0.4000000000000001 will be ignored. Current value: feature_fraction=0.8540143340838607\n",
      "[LightGBM] [Warning] bagging_fraction is set=0.9565675394152672, subsample=0.8049815604861557 will be ignored. Current value: bagging_fraction=0.9565675394152672\n",
      "[LightGBM] [Warning] feature_fraction is set=0.9065099019295724, colsample_bytree=0.4000000000000001 will be ignored. Current value: feature_fraction=0.9065099019295724\n",
      "[LightGBM] [Warning] bagging_fraction is set=0.7665129042651511, subsample=0.9990885277373119 will be ignored. Current value: bagging_fraction=0.7665129042651511\n",
      "[LightGBM] [Warning] feature_fraction is set=0.8897580917104317, colsample_bytree=0.4000000000000001 will be ignored. Current value: feature_fraction=0.8897580917104317\n",
      "[LightGBM] [Warning] bagging_fraction is set=0.8104955451854821, subsample=0.9245179024114889 will be ignored. Current value: bagging_fraction=0.8104955451854821\n",
      "[LightGBM] [Warning] feature_fraction is set=0.9939903829905308, colsample_bytree=0.8000000000000003 will be ignored. Current value: feature_fraction=0.9939903829905308\n",
      "[LightGBM] [Warning] bagging_fraction is set=0.6750863300300133, subsample=0.9934776500866705 will be ignored. Current value: bagging_fraction=0.6750863300300133\n",
      "[LightGBM] [Warning] feature_fraction is set=0.8866718622242833, colsample_bytree=0.4000000000000001 will be ignored. Current value: feature_fraction=0.8866718622242833\n",
      "[LightGBM] [Warning] bagging_fraction is set=0.16243032968991117, subsample=0.8036202006879728 will be ignored. Current value: bagging_fraction=0.16243032968991117\n",
      "[LightGBM] [Warning] feature_fraction is set=0.5197096732184582, colsample_bytree=0.4000000000000001 will be ignored. Current value: feature_fraction=0.5197096732184582\n",
      "[LightGBM] [Warning] bagging_fraction is set=0.250151530785361, subsample=0.807900326579082 will be ignored. Current value: bagging_fraction=0.250151530785361\n",
      "[LightGBM] [Warning] feature_fraction is set=0.8741256186907234, colsample_bytree=0.4000000000000001 will be ignored. Current value: feature_fraction=0.8741256186907234\n",
      "[LightGBM] [Warning] bagging_fraction is set=0.8549033983721355, subsample=0.9192677537762718 will be ignored. Current value: bagging_fraction=0.8549033983721355\n",
      "[LightGBM] [Warning] feature_fraction is set=0.8694035083399065, colsample_bytree=0.8000000000000003 will be ignored. Current value: feature_fraction=0.8694035083399065\n",
      "[LightGBM] [Warning] bagging_fraction is set=0.8903888490404258, subsample=0.8101273934729643 will be ignored. Current value: bagging_fraction=0.8903888490404258\n",
      "[LightGBM] [Warning] feature_fraction is set=0.8478545510534379, colsample_bytree=0.4000000000000001 will be ignored. Current value: feature_fraction=0.8478545510534379\n",
      "[LightGBM] [Warning] bagging_fraction is set=0.8469376442407627, subsample=0.9175431468220634 will be ignored. Current value: bagging_fraction=0.8469376442407627\n",
      "[LightGBM] [Warning] feature_fraction is set=0.8440323300506489, colsample_bytree=0.4000000000000001 will be ignored. Current value: feature_fraction=0.8440323300506489\n",
      "[LightGBM] [Warning] bagging_fraction is set=0.8479251470066838, subsample=0.9176906748540961 will be ignored. Current value: bagging_fraction=0.8479251470066838\n",
      "[LightGBM] [Warning] feature_fraction is set=0.8375866360961782, colsample_bytree=0.5000000000000001 will be ignored. Current value: feature_fraction=0.8375866360961782\n",
      "[LightGBM] [Warning] bagging_fraction is set=0.8142559273393642, subsample=0.8024139016419439 will be ignored. Current value: bagging_fraction=0.8142559273393642\n"
     ]
    },
    {
     "name": "stdout",
     "output_type": "stream",
     "text": [
      "[LightGBM] [Warning] feature_fraction is set=0.8866704263891388, colsample_bytree=0.2 will be ignored. Current value: feature_fraction=0.8866704263891388\n",
      "[LightGBM] [Warning] bagging_fraction is set=0.9221599864389785, subsample=0.9892085867880428 will be ignored. Current value: bagging_fraction=0.9221599864389785\n",
      "[LightGBM] [Warning] feature_fraction is set=0.8942735056989809, colsample_bytree=0.4000000000000001 will be ignored. Current value: feature_fraction=0.8942735056989809\n",
      "[LightGBM] [Warning] bagging_fraction is set=0.9739690428416147, subsample=0.9346699824756942 will be ignored. Current value: bagging_fraction=0.9739690428416147\n",
      "[LightGBM] [Warning] feature_fraction is set=0.8741333597043734, colsample_bytree=0.4000000000000001 will be ignored. Current value: feature_fraction=0.8741333597043734\n",
      "[LightGBM] [Warning] bagging_fraction is set=0.9972520435394734, subsample=0.897824369558255 will be ignored. Current value: bagging_fraction=0.9972520435394734\n",
      "[LightGBM] [Warning] feature_fraction is set=0.8430812175848378, colsample_bytree=0.4000000000000001 will be ignored. Current value: feature_fraction=0.8430812175848378\n",
      "[LightGBM] [Warning] bagging_fraction is set=0.8489392216542274, subsample=0.905582429122302 will be ignored. Current value: bagging_fraction=0.8489392216542274\n",
      "[LightGBM] [Warning] feature_fraction is set=0.88240213416605, colsample_bytree=0.30000000000000004 will be ignored. Current value: feature_fraction=0.88240213416605\n",
      "[LightGBM] [Warning] bagging_fraction is set=0.9241989577984698, subsample=0.9781358793324672 will be ignored. Current value: bagging_fraction=0.9241989577984698\n",
      "[LightGBM] [Warning] feature_fraction is set=0.9186315852591572, colsample_bytree=0.30000000000000004 will be ignored. Current value: feature_fraction=0.9186315852591572\n",
      "[LightGBM] [Warning] bagging_fraction is set=0.9034390137319497, subsample=0.9698364926199893 will be ignored. Current value: bagging_fraction=0.9034390137319497\n",
      "[LightGBM] [Warning] feature_fraction is set=0.8722435947483471, colsample_bytree=0.4000000000000001 will be ignored. Current value: feature_fraction=0.8722435947483471\n",
      "[LightGBM] [Warning] bagging_fraction is set=0.99998104442408, subsample=0.8751686314781268 will be ignored. Current value: bagging_fraction=0.99998104442408\n",
      "[LightGBM] [Warning] feature_fraction is set=0.9289170998247951, colsample_bytree=0.6000000000000001 will be ignored. Current value: feature_fraction=0.9289170998247951\n",
      "[LightGBM] [Warning] bagging_fraction is set=0.9860262214691733, subsample=0.8794397085604132 will be ignored. Current value: bagging_fraction=0.9860262214691733\n",
      "[LightGBM] [Warning] feature_fraction is set=0.938891604334192, colsample_bytree=0.30000000000000004 will be ignored. Current value: feature_fraction=0.938891604334192\n",
      "[LightGBM] [Warning] bagging_fraction is set=0.9966640402838436, subsample=0.8905906444669616 will be ignored. Current value: bagging_fraction=0.9966640402838436\n",
      "[LightGBM] [Warning] feature_fraction is set=0.7922618737324675, colsample_bytree=0.8000000000000003 will be ignored. Current value: feature_fraction=0.7922618737324675\n",
      "[LightGBM] [Warning] bagging_fraction is set=0.6685921960746385, subsample=0.9947405625747782 will be ignored. Current value: bagging_fraction=0.6685921960746385\n",
      "[LightGBM] [Warning] feature_fraction is set=0.880020992853166, colsample_bytree=0.4000000000000001 will be ignored. Current value: feature_fraction=0.880020992853166\n",
      "[LightGBM] [Warning] bagging_fraction is set=0.9232082570676363, subsample=0.9776794149701976 will be ignored. Current value: bagging_fraction=0.9232082570676363\n",
      "[LightGBM] [Warning] feature_fraction is set=0.8774568801276342, colsample_bytree=0.2 will be ignored. Current value: feature_fraction=0.8774568801276342\n",
      "[LightGBM] [Warning] bagging_fraction is set=0.9895165633833259, subsample=0.8306241512108553 will be ignored. Current value: bagging_fraction=0.9895165633833259\n",
      "[LightGBM] [Warning] feature_fraction is set=0.8858164820360797, colsample_bytree=0.2 will be ignored. Current value: feature_fraction=0.8858164820360797\n",
      "[LightGBM] [Warning] bagging_fraction is set=0.8965407292341925, subsample=0.8291803456384272 will be ignored. Current value: bagging_fraction=0.8965407292341925\n",
      "[LightGBM] [Warning] feature_fraction is set=0.8759474557207151, colsample_bytree=0.2 will be ignored. Current value: feature_fraction=0.8759474557207151\n",
      "[LightGBM] [Warning] bagging_fraction is set=0.9197170483460756, subsample=0.8759108558343096 will be ignored. Current value: bagging_fraction=0.9197170483460756\n",
      "[LightGBM] [Warning] feature_fraction is set=0.8179382883856, colsample_bytree=0.5000000000000001 will be ignored. Current value: feature_fraction=0.8179382883856\n",
      "[LightGBM] [Warning] bagging_fraction is set=0.9925822501517876, subsample=0.8303453845366481 will be ignored. Current value: bagging_fraction=0.9925822501517876\n",
      "[LightGBM] [Warning] feature_fraction is set=0.8716750456532668, colsample_bytree=0.2 will be ignored. Current value: feature_fraction=0.8716750456532668\n",
      "[LightGBM] [Warning] bagging_fraction is set=0.9068106369275114, subsample=0.8708412643011434 will be ignored. Current value: bagging_fraction=0.9068106369275114\n",
      "[LightGBM] [Warning] feature_fraction is set=0.8839302678951563, colsample_bytree=0.2 will be ignored. Current value: feature_fraction=0.8839302678951563\n",
      "[LightGBM] [Warning] bagging_fraction is set=0.9338856466644145, subsample=0.8618704138694767 will be ignored. Current value: bagging_fraction=0.9338856466644145\n",
      "[LightGBM] [Warning] feature_fraction is set=0.9025831114654662, colsample_bytree=0.2 will be ignored. Current value: feature_fraction=0.9025831114654662\n",
      "[LightGBM] [Warning] bagging_fraction is set=0.020969697021192973, subsample=0.8644808940252856 will be ignored. Current value: bagging_fraction=0.020969697021192973\n",
      "[LightGBM] [Warning] feature_fraction is set=0.9832090860503928, colsample_bytree=0.2 will be ignored. Current value: feature_fraction=0.9832090860503928\n",
      "[LightGBM] [Warning] bagging_fraction is set=0.6935706624889344, subsample=0.8482021235616185 will be ignored. Current value: bagging_fraction=0.6935706624889344\n",
      "[LightGBM] [Warning] feature_fraction is set=0.9016167153687524, colsample_bytree=0.2 will be ignored. Current value: feature_fraction=0.9016167153687524\n",
      "[LightGBM] [Warning] bagging_fraction is set=0.9041723456697408, subsample=0.9684773667148153 will be ignored. Current value: bagging_fraction=0.9041723456697408\n",
      "[LightGBM] [Warning] feature_fraction is set=0.9423669775224083, colsample_bytree=0.2 will be ignored. Current value: feature_fraction=0.9423669775224083\n",
      "[LightGBM] [Warning] bagging_fraction is set=0.9443379371703705, subsample=0.9855495577413029 will be ignored. Current value: bagging_fraction=0.9443379371703705\n",
      "[LightGBM] [Warning] feature_fraction is set=0.6722428170722119, colsample_bytree=0.7000000000000002 will be ignored. Current value: feature_fraction=0.6722428170722119\n",
      "[LightGBM] [Warning] bagging_fraction is set=0.9993058271373083, subsample=0.9343690354018567 will be ignored. Current value: bagging_fraction=0.9993058271373083\n",
      "[LightGBM] [Warning] feature_fraction is set=0.8189488162982498, colsample_bytree=0.6000000000000001 will be ignored. Current value: feature_fraction=0.8189488162982498\n",
      "[LightGBM] [Warning] bagging_fraction is set=0.7876316053934809, subsample=0.9514067077119728 will be ignored. Current value: bagging_fraction=0.7876316053934809\n",
      "[LightGBM] [Warning] feature_fraction is set=0.9616908028981204, colsample_bytree=0.30000000000000004 will be ignored. Current value: feature_fraction=0.9616908028981204\n",
      "[LightGBM] [Warning] bagging_fraction is set=0.8868555052422203, subsample=0.820353058954803 will be ignored. Current value: bagging_fraction=0.8868555052422203\n",
      "100%|█████████████████████████████████████████████████| 50/50 [02:43<00:00,  3.27s/trial, best loss: 1.921819870399543]\n"
     ]
    }
   ],
   "source": [
    "hyperopt_objective = lambda params: evaluate(params, train_X, train_Y, validation_X, validation_Y)\n",
    "best_params = fmin(hyperopt_objective, space=lgb_params_space, algo = atpe.suggest, max_evals=50)\n"
   ]
  },
  {
   "cell_type": "code",
   "execution_count": null,
   "id": "1254c43a",
   "metadata": {},
   "outputs": [],
   "source": [
    "space = {\n",
    "    'n_estimators' : hp.quniform('n_estimators', 100, 1500, 50),\n",
    "    'max_depth': hp.quniform('max_depth', 3, 100, 1),\n",
    "    'num_leaves': hp.quniform('num_leaves', 20, 100, 10),\n",
    "    'min_child_samples': hp.quniform('min_child_samples', 10, 300, 10),\n",
    "    'colsample_bytree': hp.uniform('colsample_bytree', 0.3, 1.0),\n",
    "    'subsample': hp.uniform('subsample', 0.3, 1.0),\n",
    "    'min_split_gain': hp.uniform('min_split_gain', 0, 0.7),\n",
    "    'scale_pos_weight': hp.uniform('scale_pos_weight', 1, 10),\n",
    "    'reg_alpha': hp.uniform('reg_alpha', 0, 100),\n",
    "    'reg_lambda': hp.uniform('reg_lambda', 0, 100),\n",
    "    'learning_rate': hp.loguniform('learning_rate', np.log(0.01), np.log(0.5)),\n",
    "}\n",
    "\n",
    "best = fmin(fn = objective,\n",
    "            space = space,\n",
    "            algo = tpe.suggest,\n",
    "            max_evals = 30,\n",
    "            rstate=np.random.default_rng(1))"
   ]
  },
  {
   "cell_type": "code",
   "execution_count": 759,
   "id": "1a5df711",
   "metadata": {
    "id": "1a5df711",
    "outputId": "3f4d9727-5097-4445-bd97-4f273c364687"
   },
   "outputs": [
    {
     "data": {
      "text/plain": [
       "{'bagging_fraction': 0.9610166510748861,\n",
       " 'colsample_bytree': 5,\n",
       " 'feature_fraction': 0.5619448083242041,\n",
       " 'max_depth': 3,\n",
       " 'min_child_weight': 4,\n",
       " 'subsample': 0.8354846836454829}"
      ]
     },
     "execution_count": 759,
     "metadata": {},
     "output_type": "execute_result"
    }
   ],
   "source": [
    "best_params"
   ]
  },
  {
   "cell_type": "markdown",
   "id": "33c8cd83",
   "metadata": {
    "id": "33c8cd83"
   },
   "source": [
    "### Inference"
   ]
  },
  {
   "cell_type": "code",
   "execution_count": 760,
   "id": "e1e5c50a",
   "metadata": {},
   "outputs": [],
   "source": [
    "test_x = test_x.drop('ID', axis=1)"
   ]
  },
  {
   "cell_type": "code",
   "execution_count": 694,
   "id": "b32ecccd",
   "metadata": {
    "id": "b32ecccd",
    "outputId": "81135660-3442-4464-beda-ea1c0a6cf1a2",
    "scrolled": true
   },
   "outputs": [],
   "source": [
    "model = MultiOutputRegressor(LGBMRegressor(**best_params))\n",
    "model.fit(train_x, train_y)\n",
    "preds = model.predict(test_x)"
   ]
  },
  {
   "cell_type": "code",
   "execution_count": 695,
   "id": "163ac1c3",
   "metadata": {
    "id": "163ac1c3"
   },
   "outputs": [
    {
     "data": {
      "text/html": [
       "<div>\n",
       "<style scoped>\n",
       "    .dataframe tbody tr th:only-of-type {\n",
       "        vertical-align: middle;\n",
       "    }\n",
       "\n",
       "    .dataframe tbody tr th {\n",
       "        vertical-align: top;\n",
       "    }\n",
       "\n",
       "    .dataframe thead th {\n",
       "        text-align: right;\n",
       "    }\n",
       "</style>\n",
       "<table border=\"1\" class=\"dataframe\">\n",
       "  <thead>\n",
       "    <tr style=\"text-align: right;\">\n",
       "      <th></th>\n",
       "      <th>0</th>\n",
       "      <th>1</th>\n",
       "      <th>2</th>\n",
       "      <th>3</th>\n",
       "      <th>4</th>\n",
       "      <th>5</th>\n",
       "      <th>6</th>\n",
       "      <th>7</th>\n",
       "      <th>8</th>\n",
       "      <th>9</th>\n",
       "      <th>10</th>\n",
       "      <th>11</th>\n",
       "      <th>12</th>\n",
       "      <th>13</th>\n",
       "    </tr>\n",
       "  </thead>\n",
       "  <tbody>\n",
       "    <tr>\n",
       "      <th>0</th>\n",
       "      <td>1.383297</td>\n",
       "      <td>1.179149</td>\n",
       "      <td>1.071288</td>\n",
       "      <td>13.472673</td>\n",
       "      <td>31.226097</td>\n",
       "      <td>16.768310</td>\n",
       "      <td>3.148302</td>\n",
       "      <td>-26.192801</td>\n",
       "      <td>-26.195799</td>\n",
       "      <td>-22.298689</td>\n",
       "      <td>24.432557</td>\n",
       "      <td>-26.120008</td>\n",
       "      <td>-26.105578</td>\n",
       "      <td>-26.110167</td>\n",
       "    </tr>\n",
       "    <tr>\n",
       "      <th>1</th>\n",
       "      <td>1.483523</td>\n",
       "      <td>1.196565</td>\n",
       "      <td>1.125974</td>\n",
       "      <td>13.764450</td>\n",
       "      <td>31.215055</td>\n",
       "      <td>16.627103</td>\n",
       "      <td>3.133529</td>\n",
       "      <td>-26.176398</td>\n",
       "      <td>-26.198439</td>\n",
       "      <td>-22.259938</td>\n",
       "      <td>24.348702</td>\n",
       "      <td>-26.124397</td>\n",
       "      <td>-26.148151</td>\n",
       "      <td>-26.183649</td>\n",
       "    </tr>\n",
       "    <tr>\n",
       "      <th>2</th>\n",
       "      <td>1.409379</td>\n",
       "      <td>1.137009</td>\n",
       "      <td>1.069758</td>\n",
       "      <td>14.139093</td>\n",
       "      <td>31.996274</td>\n",
       "      <td>16.849364</td>\n",
       "      <td>3.088461</td>\n",
       "      <td>-25.894610</td>\n",
       "      <td>-25.929497</td>\n",
       "      <td>-22.034860</td>\n",
       "      <td>24.471777</td>\n",
       "      <td>-25.883265</td>\n",
       "      <td>-25.896137</td>\n",
       "      <td>-25.904928</td>\n",
       "    </tr>\n",
       "    <tr>\n",
       "      <th>3</th>\n",
       "      <td>1.455771</td>\n",
       "      <td>1.114680</td>\n",
       "      <td>1.048424</td>\n",
       "      <td>14.962189</td>\n",
       "      <td>32.590624</td>\n",
       "      <td>16.805793</td>\n",
       "      <td>3.052365</td>\n",
       "      <td>-25.671580</td>\n",
       "      <td>-25.675645</td>\n",
       "      <td>-21.907524</td>\n",
       "      <td>24.953867</td>\n",
       "      <td>-25.636203</td>\n",
       "      <td>-25.610471</td>\n",
       "      <td>-25.602527</td>\n",
       "    </tr>\n",
       "    <tr>\n",
       "      <th>4</th>\n",
       "      <td>1.303131</td>\n",
       "      <td>0.978554</td>\n",
       "      <td>0.924524</td>\n",
       "      <td>14.939616</td>\n",
       "      <td>31.535656</td>\n",
       "      <td>16.929403</td>\n",
       "      <td>3.116875</td>\n",
       "      <td>-25.868166</td>\n",
       "      <td>-25.829147</td>\n",
       "      <td>-22.064313</td>\n",
       "      <td>24.698392</td>\n",
       "      <td>-25.777034</td>\n",
       "      <td>-25.762193</td>\n",
       "      <td>-25.710638</td>\n",
       "    </tr>\n",
       "    <tr>\n",
       "      <th>...</th>\n",
       "      <td>...</td>\n",
       "      <td>...</td>\n",
       "      <td>...</td>\n",
       "      <td>...</td>\n",
       "      <td>...</td>\n",
       "      <td>...</td>\n",
       "      <td>...</td>\n",
       "      <td>...</td>\n",
       "      <td>...</td>\n",
       "      <td>...</td>\n",
       "      <td>...</td>\n",
       "      <td>...</td>\n",
       "      <td>...</td>\n",
       "      <td>...</td>\n",
       "    </tr>\n",
       "    <tr>\n",
       "      <th>39603</th>\n",
       "      <td>1.258851</td>\n",
       "      <td>0.994305</td>\n",
       "      <td>0.981286</td>\n",
       "      <td>13.100345</td>\n",
       "      <td>31.416533</td>\n",
       "      <td>16.624428</td>\n",
       "      <td>3.174431</td>\n",
       "      <td>-26.534381</td>\n",
       "      <td>-26.505710</td>\n",
       "      <td>-22.701616</td>\n",
       "      <td>24.384601</td>\n",
       "      <td>-26.397494</td>\n",
       "      <td>-26.397647</td>\n",
       "      <td>-26.392877</td>\n",
       "    </tr>\n",
       "    <tr>\n",
       "      <th>39604</th>\n",
       "      <td>1.244659</td>\n",
       "      <td>0.928424</td>\n",
       "      <td>0.975583</td>\n",
       "      <td>13.668684</td>\n",
       "      <td>31.587072</td>\n",
       "      <td>16.752839</td>\n",
       "      <td>3.178128</td>\n",
       "      <td>-26.417522</td>\n",
       "      <td>-26.404218</td>\n",
       "      <td>-22.619890</td>\n",
       "      <td>24.472424</td>\n",
       "      <td>-26.381341</td>\n",
       "      <td>-26.322911</td>\n",
       "      <td>-26.383367</td>\n",
       "    </tr>\n",
       "    <tr>\n",
       "      <th>39605</th>\n",
       "      <td>1.248958</td>\n",
       "      <td>0.957678</td>\n",
       "      <td>0.971237</td>\n",
       "      <td>13.121081</td>\n",
       "      <td>31.284558</td>\n",
       "      <td>16.636958</td>\n",
       "      <td>3.175506</td>\n",
       "      <td>-26.510886</td>\n",
       "      <td>-26.469437</td>\n",
       "      <td>-22.685975</td>\n",
       "      <td>24.305580</td>\n",
       "      <td>-26.395023</td>\n",
       "      <td>-26.407380</td>\n",
       "      <td>-26.406890</td>\n",
       "    </tr>\n",
       "    <tr>\n",
       "      <th>39606</th>\n",
       "      <td>1.225088</td>\n",
       "      <td>0.899125</td>\n",
       "      <td>0.949546</td>\n",
       "      <td>13.389727</td>\n",
       "      <td>31.198365</td>\n",
       "      <td>16.652045</td>\n",
       "      <td>3.201134</td>\n",
       "      <td>-26.553210</td>\n",
       "      <td>-26.579408</td>\n",
       "      <td>-22.713389</td>\n",
       "      <td>24.397430</td>\n",
       "      <td>-26.490928</td>\n",
       "      <td>-26.474262</td>\n",
       "      <td>-26.492640</td>\n",
       "    </tr>\n",
       "    <tr>\n",
       "      <th>39607</th>\n",
       "      <td>1.289836</td>\n",
       "      <td>0.967993</td>\n",
       "      <td>1.064425</td>\n",
       "      <td>13.185835</td>\n",
       "      <td>30.768033</td>\n",
       "      <td>16.630141</td>\n",
       "      <td>3.232878</td>\n",
       "      <td>-26.459624</td>\n",
       "      <td>-26.487393</td>\n",
       "      <td>-22.740014</td>\n",
       "      <td>24.253644</td>\n",
       "      <td>-26.449605</td>\n",
       "      <td>-26.395172</td>\n",
       "      <td>-26.438198</td>\n",
       "    </tr>\n",
       "  </tbody>\n",
       "</table>\n",
       "<p>39608 rows × 14 columns</p>\n",
       "</div>"
      ],
      "text/plain": [
       "             0         1         2          3          4          5   \\\n",
       "0      1.383297  1.179149  1.071288  13.472673  31.226097  16.768310   \n",
       "1      1.483523  1.196565  1.125974  13.764450  31.215055  16.627103   \n",
       "2      1.409379  1.137009  1.069758  14.139093  31.996274  16.849364   \n",
       "3      1.455771  1.114680  1.048424  14.962189  32.590624  16.805793   \n",
       "4      1.303131  0.978554  0.924524  14.939616  31.535656  16.929403   \n",
       "...         ...       ...       ...        ...        ...        ...   \n",
       "39603  1.258851  0.994305  0.981286  13.100345  31.416533  16.624428   \n",
       "39604  1.244659  0.928424  0.975583  13.668684  31.587072  16.752839   \n",
       "39605  1.248958  0.957678  0.971237  13.121081  31.284558  16.636958   \n",
       "39606  1.225088  0.899125  0.949546  13.389727  31.198365  16.652045   \n",
       "39607  1.289836  0.967993  1.064425  13.185835  30.768033  16.630141   \n",
       "\n",
       "             6          7          8          9          10         11  \\\n",
       "0      3.148302 -26.192801 -26.195799 -22.298689  24.432557 -26.120008   \n",
       "1      3.133529 -26.176398 -26.198439 -22.259938  24.348702 -26.124397   \n",
       "2      3.088461 -25.894610 -25.929497 -22.034860  24.471777 -25.883265   \n",
       "3      3.052365 -25.671580 -25.675645 -21.907524  24.953867 -25.636203   \n",
       "4      3.116875 -25.868166 -25.829147 -22.064313  24.698392 -25.777034   \n",
       "...         ...        ...        ...        ...        ...        ...   \n",
       "39603  3.174431 -26.534381 -26.505710 -22.701616  24.384601 -26.397494   \n",
       "39604  3.178128 -26.417522 -26.404218 -22.619890  24.472424 -26.381341   \n",
       "39605  3.175506 -26.510886 -26.469437 -22.685975  24.305580 -26.395023   \n",
       "39606  3.201134 -26.553210 -26.579408 -22.713389  24.397430 -26.490928   \n",
       "39607  3.232878 -26.459624 -26.487393 -22.740014  24.253644 -26.449605   \n",
       "\n",
       "              12         13  \n",
       "0     -26.105578 -26.110167  \n",
       "1     -26.148151 -26.183649  \n",
       "2     -25.896137 -25.904928  \n",
       "3     -25.610471 -25.602527  \n",
       "4     -25.762193 -25.710638  \n",
       "...          ...        ...  \n",
       "39603 -26.397647 -26.392877  \n",
       "39604 -26.322911 -26.383367  \n",
       "39605 -26.407380 -26.406890  \n",
       "39606 -26.474262 -26.492640  \n",
       "39607 -26.395172 -26.438198  \n",
       "\n",
       "[39608 rows x 14 columns]"
      ]
     },
     "execution_count": 695,
     "metadata": {},
     "output_type": "execute_result"
    }
   ],
   "source": [
    "pd.DataFrame(preds)"
   ]
  },
  {
   "cell_type": "markdown",
   "id": "abfe1ab5",
   "metadata": {
    "id": "abfe1ab5"
   },
   "source": [
    "### Save Prediction"
   ]
  },
  {
   "cell_type": "code",
   "execution_count": 697,
   "id": "d206c03f",
   "metadata": {
    "id": "d206c03f",
    "outputId": "d70cdb6f-40ae-4494-befd-fcd3052d9620"
   },
   "outputs": [],
   "source": [
    "submit = pd.read_csv('data/sample_submission.csv')\n",
    "for idx, col in enumerate(submit.columns):\n",
    "    if col=='ID':\n",
    "        continue\n",
    "    submit[col] = preds[:,idx-1]"
   ]
  },
  {
   "cell_type": "code",
   "execution_count": 699,
   "id": "91412662",
   "metadata": {
    "id": "91412662"
   },
   "outputs": [],
   "source": [
    "submit.to_csv('data/submit.csv', index=False)"
   ]
  }
 ],
 "metadata": {
  "colab": {
   "name": "Dohyeong_LG_Aimers_CJ_ver 1.1.ipynb",
   "provenance": []
  },
  "kernelspec": {
   "display_name": "Python 3 (ipykernel)",
   "language": "python",
   "name": "python3"
  },
  "language_info": {
   "codemirror_mode": {
    "name": "ipython",
    "version": 3
   },
   "file_extension": ".py",
   "mimetype": "text/x-python",
   "name": "python",
   "nbconvert_exporter": "python",
   "pygments_lexer": "ipython3",
   "version": "3.10.4"
  }
 },
 "nbformat": 4,
 "nbformat_minor": 5
}
